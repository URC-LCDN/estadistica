{
  "nbformat": 4,
  "nbformat_minor": 0,
  "metadata": {
    "colab": {
      "provenance": [],
      "include_colab_link": true
    },
    "kernelspec": {
      "name": "python3",
      "display_name": "Python 3"
    },
    "language_info": {
      "name": "python"
    }
  },
  "cells": [
    {
      "cell_type": "markdown",
      "metadata": {
        "id": "view-in-github",
        "colab_type": "text"
      },
      "source": [
        "<a href=\"https://colab.research.google.com/github/URC-LCDN/estadistica/blob/main/EjemploDeDistNormal_AfluenciaMetrobus.ipynb\" target=\"_parent\"><img src=\"https://colab.research.google.com/assets/colab-badge.svg\" alt=\"Open In Colab\"/></a>"
      ]
    },
    {
      "cell_type": "markdown",
      "source": [
        "![urc_logo_ext.png](data:image/png;base64,iVBORw0KGgoAAAANSUhEUgAAAlkAAAB1CAYAAAB9CfQjAAAAGXRFWHRTb2Z0d2FyZQBBZG9iZSBJbWFnZVJlYWR5ccllPAAAIflJREFUeNrsnUtyIkkShqPGZl/0CZQ6QaHtWJkJTlBo0dsR7GoncQLgBFC73pHqbS1EnUAps7bZijpBZ52gs0/Qk065C8cVkQ+EeP6fGSYESWZkZDz+8PDwcA4AAAAAAAAAAAAAAAAAAAAAAAAAAAAAAAAAAAAAAAAAAAAAAAAAAAAAAAAAAAAAAAAAAAAAAAAAAAAAAAAAAAAAAAAAAAAAAAAAAAAAAAAAAAAAAAAAAAAAAAAAAAAAAAAAAAAAAAAAAAAAAAAAAAAAAAAAAAAAAAAAAAAAAAAAAAAAAAAAAAAAAAAAh8o7ZAHYJL+f/afFb7P//vjfHDkCAAAAIguA14mrbv5nnL8a6mMSWT2ILQAAABBZAKwnsDr5n/vA11n+usiFVoqcAgAAcEr8C1kANsCU/5KQaueCisR7nz8jy9YAWQQAAAAiC4AasA+WTBH2c4GV0Jv87yT/E/PnLeQUAACAU+Pfx3Qzf/z269AdkdXk4+evhzadm5n/f/DfCFUNAAAARNZxMDrw9F+6w7H+aKf26/yV0Jvfz/7T4P+dfAYAAABAZB04Hz9/HR5y+tkidxAi678//pflgirO33bplb+P8r+PLLAiPuwLqhoAAACILADqQ07uTX61jECMcyE2QxYBAACAyDoi/vjtV9vh7zPpx89f410m4Pez/5BI6pQcNreiiaxZ+Z8LjpX1yf10hE/z1504wpvrNPg6UcF16JwzhH4A+wZba1t52YyRGwCAkxVZLLAOxRGexMjOGu2846AwDN2KxyZ5B9O2n3OnE1cQcg9uNWhpiEF+fB+dGdgzSGRd77K+AgAgsg6dlF/rCLtDG5l3qwosuUcSZbn46dW8DgmraUWB5fi4cf67OaLGAwAAgMg6Ej5+/nrO041adMkoVo5JPMeQWDmYMBJsWZqu8VNycn+saWWi6zRrXmchzPJrtXlaEoCTg+vpYnDim4IHAEBkHSIP6r2EhdAC6l3gmENpuKnRvn/FKSpbmfLjhq7c3yuECMErFElwQsJqYcnletNQn9Mf8oscwcILwH6DiO+nDQms6BW/X4g07gyKOouWe711r5Of5xaPDJyIwKKBxZ/up2XcV79IeD3xVD8AACLr4Dnj1zNmqvDQGnEaIW8i/STSpgXXidzrrGWaMQs2AI5dYFVdHDKF0AIAImvf+IVfk9ABuYCiBk77AHXdS+fwB/N/aoWYgsz6F7xVTrzjRpxGwZu0CnV4OtDHvavu6F6FexZuABwr05p1Zow6AQBE1r4gwolM8RSZnEIRzNzq9jAETW/1a5w34XN0jeiiz8lXi/yJxrl424dR57hmfiXu5b6EloFt6DksRJmje8r5X5WGO6L9KQEwdaZVUGdC9ZDqxA1yDwCIrH2Atni55YbpnhunLx8/f70wx91yo5ZUPG/fI176Sqg9uWXcrl07yNcRj22OidUuEVojHTi0YlgIird1nr+uaqQpc9imBxwvnwJl/oLr4XlgUNJC1gEAkbUPkGi6VP/T1NlD4DhquB4rnlMESOoZYQ7c0vwf8fudrQriiO2jisfO1d/Q6j6KzD5UAqvpyq1lmTlf1fzoYUUVOGJ8Vqy+qodZYEDSRNYBAJG1cyi2lRn1kSj65Y/ffo1UR99mEZLUOHXGv7ngc2Z8PQrYaX2/rL/XLoTWsMr96RV9HJ/HijO61546XiyEZT4lNu5VlemOEfZBBKcOtpoCACJr30hYOLXZoX3mGQWSyLpSgoGsW92aI1D6jcRzWoitwApEGY223W6nDq9ceVT7MVumtDibqfu4MmJp6srDQvS1NYqFXFkMrURbywA4IW7KwqQAAPaTUwlG+uiW+409ssAh8dPgzx+UaIjdehHQBRELkfOb8Htu6bxNQuOb25EjN4mjvPG+cuXLxWlF34USUz2+t5ERS8MKYinOfzNRv6HnUDa1mLo3DETKHRgJ6ksuA985nVngeDnW8bHejawDKy5ndrqT8yDS0fP5s1bguQ1NWqyofbGJNy9K6PqEKqczDtxDpXv1/M6X/plvqjdwDy/uNXCNqOquA7yqtnGAe2FSXaOYWPRM/y64v2FZOaj4zFJTFuX50EAnUdeZeeq/1PFU/S7mv3TuTNd/c/6UB8TdgoFWEqhXiY2Eb8rgyobznnuyZTDj7+YF+SW+vb46PfS0YQmskBBZx0zGjVWLLTFtj7ig9zI9NndLv6wqpNyYdAuERvzx89f4j99+feK07LzCUeNAmzCXCEtqfO45z0SctY2je6uCWJw75U9SMeK8z1q2SYElFsjMLS10Cz86FpapESoSwJWO/aGO9W1kLUI6U+WLju2ZY1ssZOxnN67cV+1adVDP16UOmRcU6GdIn7/PP+970pnoc5Tc61WFrV1s+uXeE8/z9N1DFXz5ViSkF6EReIPzQ+vsIlcedmXguW+6z35FsdVSZSE2z0fawURd55PZ7mqgjknV7xI1sJQN5ufmucjgLSppR5LA9wO+1zYLvLEnv8Zcdmeee7r2tfW0o4Xz+IGaweEHzyBwECiHyVu2ZwAia1fccCX4woW/wfsOzgMi6jz/ftEIVw04ysf38uP73Dn5ftdXI1O69uiVVrNNCa04r/yXrnh6lDaFHksHHRAfdcVSlYCL/bdydOcG/oFHotqvjJ5Lx9MRyz2eq/sYcqiKcaDz7mtBwsdeu2qx0ua8oqyMO8/CA7J8tIwYojTf5p9/r2DNKbrXeytAq6Sf03WvBXvoHt6ALt//nNuA3om0fRE/r94bWPAqb3dFwoZFUMTtcU89F8cWrlgFG6Zj7zwCa2XQyuL/jM8TqWd7a465dtUWHNE1Hlk4dfgeH/J0nXsGBgLFCYwC9UGuL+drcZtzAflxGpya4/t7ecPiKSSgmvn3t3UiupPjfP4auuU0pI+xakAaaoS/c1hklDVAtzzl4uuQy+6jZ4SZNGBFxG88tdM14lfyIrPXZYHQDIxC+9yBdyteN3vjZxl6jiLsV/zsAta9ont1bo19KDldPRbs214Nd8ODrDvuFE/Nx2kaqLuvpc52V188ZedGiRENTVkOzSvxCXNuu2QKMjLx+miKe0KhYsTKVZLGRz6n+NVmzsTmk6l3Vaf0fbhAGrW/b/ONngWAJWtnxG45FZixFctneZlw5ZHvRp5RzheueNemU43cqok4dmZjVz6+55Z+BxLw9GFP8okagqc6wq9iwFHfqsCya8y1demNOOPrZJ7Gc/G8VcPe4WNTj3jIeBrg0nONazU6/8TlpF0xfZHHtyMpmqrjexhwGfWllaxRH9xLP7uVjrPkXmd8L5M1hFbCFo2OEfWXnnuNNzGtx/42DT4fpX/AbcHwxNp7GuRtcnXunOv+mKfVqrTDlIYGP5O5W/pB2dh3JMT/MWXnnR0M82bZTg2YM54uFKvZmNOXsMCe1yircy7rXdPGdVV/QOekNrBLFvCiaUC21N3wuZobfhYAlqyd8reqzLLizwqDeS6+SPCEgv0lLIiuuRP7ZiwgOk5Wm0M3jDwWr9saQmPb1qzUFZv+V8RSjYCjQ1+D48IhJLIaQmSTNFgoXfLItFVTGJaRqM5uk5A/yj/cKf2prFAhgdLjPJ6W5MVbsk2flIUVS3WAX9xhRUjv8WukXt76qV7zgGjfpAWlr65zX6F9yZTF6pN6Buv6yI15gPrAZT5TedPma2VKhE0Ltv+qVE7ZAirpfnTLcD0Nt4Z1F8CSdSyIT9YVdyw+yxFNEU5ZHF3l75v5+zlPAUqF6qiK1KJ9CPPvFx0mH7swL5N/Fm+fMwg0DDKqG71Bh/taoZWwI7xN1zoBR8tE2xWLAtuhb8sx9AePQBs8RTgXcZd/9uARSIMC34uW80eivzM+WXTMnx5/KW/+VfRTGrGFigYST2XWLrbmUDl/CK3UWvNeq1iVWjzgsel7fAufLLVNTZMtWCsWrgNZaZh6Vs4NPM9V5x+VhyfPYLKKBcXWx6jg2HagDoe4c8vFQVnAiiXCq2ygNXfLFeKLtJipcvKH7HFbJRb3yxplp+FeTgvq2YmBaeMHrsDXUk3DS9sIYMk6GmQFS2oqdMIjRGl0uuyLRY3V2FidCmHr2JQ7OedWN3ltm8o3ZzE33cfRDy+xnhmxtE7A0asS87nPYtWvID42RVxgWWpY8ckN7b315+Ep04arZv5vvOFzk+d0W2ax4M6o7xsIVLzX2uJECfNki1H7B265mli/Ynf8e2DeeT77UHC81DsSpPTsacruXomYWaAOX9Uoo4kSGA0WkL56s5gqN6+ux5J2ocTaWLVP1A4/qaniqoO2S7meW7pO6K28BiovrGXRZym85vON1eA+PcAwIgCWrEJmbhkbS/YGI4tTmwXS82dudTnvY83rNM0oq6lEFfmBLVZ3sdVszGmKXAVT+wZG9B1uIPRIalRQ2WU5deTWCzjaMzF0uk4t1Zbrst+DCM7YxtAxwm6sRpIScqG/rtVLWXSmbPGgTum9usbckyf3bImKzcg2ND1H/iCZKSPzikKy6bGoiRCdB+6JVnFN+J7mRdMw7CPywflDAxTda7tinuv0N/jek0CnfM0rXG0a22vkEd13ny17LU6vtQRRvpAVs3Msuwh4LI9nPqtYkQDiZy2WJi0Y4oIyF7J+h9Crqu8Cx0QeEZxYcW9i/bXYCX+uzmGnxMsssC236iaQcXuVKiustGGZyntZ4XhjxGjXY307lZWt4IRE1ne3dDQX0dVjgSUNyuKzXAxl+WevGeHS7yPacJrPLdOTF+TzlX/2nT+75U7nzSO+G4GjGzHqiC99DuZKgDTXDDgaq9+0zPXpus9TINzZU3qKBNaDEbFiyu9UDCfgCkTJnO/pg2qIXwQjZUF4wcdechq8x6rOxPLF06knns6vSIRlxlqRmnSSwPjbrcZiS30dGh/7w3OOuvfqKqQ/tO/kXQXRXvUaWkhELmAZ5U7zkDu71JNn9xwHKuVBVdfzux8l9YGm1x55MCqDmW9mMDaygo0GR+yE3lCf37ml35Id9EoIhNhzX6OS57pyfRZ5MiiU/8/dMsCwpElP3Uva7P/2ejNV3ht87dRTB76YvPXdwxzbgp0e747pZniab0C+Uvp/rkgjtzTXSqT1mDv/lvrMcWf/l6ooA/N+Aftk/WPO31MNvMRGkWO73Hh1VGNzxxaDRFnWVu7jtaNb99NnQjdgmbFqtatYVrjhLrO6zbWlQ/kJNTxC4bxKh81TVF3VKN9xPooFxgbeBOAtBy3UXgwqxjArqpd6pdm2FsGcI+o4ALBkbRoJ/imrQKRhS5RVQDslxmY0oy0NiWc0PTfHD5w/BtfAjD6/ueX05VuhrU5XKtJy4pYOq59KLCfSKZQFTvUFHA35bol16qLGPeigoQlbawYOq3rAYYk0GhzsYsFLDIEFAETWxvj4+evQrcbC+cVzWEhcaCtSHHjvxPpkfpME0nPua/jc287Ri8BJ9VQNTwdKxPsqgSEHrpqje6o6k7IYWs2KK7zkur4I0LJVR2uLDvNgfYFBgjg51W1FAtu9bAOql32UQAAgsjaGmi7cBG330kJFVhi9+uY1JEawbQrpzGjlS9PsGfbsmF/hPIutZgqE1siEKui6ajG04or3IBY37dPQUqIRAmv/BUaL60v2Gj+6A7//XQisucN+eQBAZO0zvDrQrmKSachoj5M+c0sr1AOvAsrcqmXqW9lJ2JlWVvG8uMYaMbTqLP2WqMtddq69c8vNbJ1D5ORDYcrPvX2i01bbniKktukLwgUAAJG171CgUd+0Fzm202rBvfUJYnHUd8u4XdavahKyAknwPBVuwbdUmzrLdWJotc0S6CGnxTfa7rulz1zXrVrIMvfKaRC1nc4ln++RhWOqt9oRIakCeD77uKjjUrVasusRljOfwOB8u7XnNfnjE7fzEstJy3ycutUVU6HjXEFa9L1NzLlu3TL+kc0Hme7tyLQhp6dr70fvbcmBViWNibGY+p5dbNJUesxbw2loBgYQIyXCfM/hF5tWu+UM59O7V6aR8uja89W3QJ5qH1PfKkTfOb/58p7LNz2fF0FpeYq16alLz9dT15nLJvaqbF+bdN6VrfLj+jgw1330tVHsFhFxeiaBen1p012Q37rdu3Zhl4u+Fu++hRihfAncc9F9yDO4MyvHQ5/TPX/yCP7U9C836tmkzgRvhsg6IZEVKOgSgmGvgxpyhU65MjarjHKVWIo43tKczzXh2EpdrhQ+R/eoJEl9T1iIAYvWK0/6aXqp7VbjZC0EgPs5Tbm2VSQQ3mIRU4wtd04936H5X0SCc8u4PgmnKwqUizHvcTb0XZPfv/cIR9+5KI1xwR6PrYI09NWzbxWUYX2PztwrcSYim4XRWP2uKB+cElCXbhnD7oLLngwKRp40JhWeXZvDUJQes6Vq6KsTqV4Vy+XNFz1dFulsI42tQDmijvqiIN9FPD+HhFH12p7rg2dgJse1uEyn5v5bget9YPHwIu0l6QzWG+78HzzP4bmMGhHXVem0YWh8Aac73Ib+XTC4cW65SKtV8L0rOUdU8r2+56L7kHS0dH+gPn9Uz/LB018u8knVy0Ygj+mYo1oBe8oia84NVysgoCTYJRWCH84fKVmmCyX8w6cK52q5HexZyKODixo/0WLpgQt+xufqOY+zPjeqZRV6JeCoLIdXjc8wsNdh5pZ7uG3KutBUjfCcLS2yN1laIK7rIkJBxMSA44TFARFVtNlszOXxUjVcWckoNVVWJBnVr8QqU+LFFyuoCLq+bLw7rpgGfT3Hz3SxBQyXoQ/8HOahrXYqPLs0cIzkdcOW6x2QegYT8yqd4hbaxr4Rt02uq6nJUwkJc8NigsrDD35ul6rMSiw0KiM2IKj1U+s6/+bdsXqGcr1bz4DExuZL+Jo2nY+BQaZY4sVKnnI+3HjSri1RDc9Cno5qAxIl1EZ8jURZo5rmHueBey8b/K/DTcl9aIrqjR7Iyz3Lc3+uc241qPSVSkN6bK4EpyqyelxAO/yAB251amfOn1OFoMjwM48/lowkGnxsl8/bNKMnfS4peA8lQutsl5njEUul4RZURPmqjbdMOdx7rDPJlkzGN6qz07G9SAQ2uNPbhMAdqnu+V1arWHUIETc4Gb/vOP/WNc/mdGUpuC0QZWIxGap7e+Jr3BgLybr7B05deUDR4D6MPC0r+3gOTD19zbMLHTNzy9htXRcIgrsNy5Hsm7ln7WOm6l9i9km8UQNHPeWfqLJ9bURSk8U71WvfCu9rJYYWYoaeoydffqiy71yxm8a1evZXJp0PSjTFHnEm5fjK5MMkMA0tIqjrO6caYFH7N1H1IBOhrXaF+GGmw4ue0UbaJ3MfM87X0H1If0DPum3Oo/d67JvB9FzVuY45F4nOb8ca6/DY9y5MAh29PPAB/x2ZUaVs8zJVIiA0umyqzuFJnV9bMQbqfNeu3IcoctuZHqgjlpo8/x6qpFViaPUqxtC653O+eSenhEumLQpvOJr6Yq6tO4RYfX9T4VwTUw6rCL5MjYgjj8D9R70eKohmEYWDgjq3qD/m3P+YdE3Mb0clU3lVnl3omNQtF0tcbqlqpYF7oJF9h/cJbAXqQ1O+52O2If5kv8B7cw9SzmaBqOcr+a7KJrUPtEXTA1sYpe3o8vEp+xSlno74WaiofQXHJZZW77NnvhXUmZYqJ4mn7liLm5T5kX5Wnjra4vbuL94Xsu5sRpcHuvLa5CIKfR+9wH3YPrXl6Q+axvKm8073ixHXv0xZMqlc/BXwPYXI2iMWD5E3aw5VwMQ0ZLKL+/OxHz9/1Sb7NOD0rgvWd/V/x62u1stMZ9YMpOvR00BsW2CViaVbK35qOLrbvQzHBcKg4TybEx8jZhRJ93tW0sjtlcXDWJsmrv5+n7oc6ef94ZieMwu7JNB+3KvO01cnxrqD9Tm9v8HgY+BWA/32+R6ygjYqMvccu+Vm3KkSGw8+yxh3sHL+QUAASbqanvLn4yzQvjjn3zQ6NWWyiBsjVFIzaHI8jd/jPMhUHzGt+Uyk/Mhrk76E+j5u1X3cBPqpkTq2WSJyvZ+xYD1ng0OinsvAsxE4RNYekWpFnYul1CNo/l5DuBWJnssNWZ1EIIroe9xmxtUQS5mnAyizoow8q3nKnkOVMBCbKi/XukGl93q0XYDOq6qR+2/083ar09Rdt+qfcl1yrltbfio+5+vAb+g5vVOv0rht/FxnrnjPucXgxpzbroTTHeeiI2Kr6mueXeiYphIP26xnhxIMVJ6llI+5mvp5VJaMjilXdmEC5TNtWk0DLOpQr3S94UFEU9V3vZov8gwyxGIkZSQucCuQdHaN5SxSdXBWYKlxtv2hFXNSjlgINIz4i9Q1Iz6uw1a6Hk+VjpTQqgNZ5NrqtZGyVHIfHd+MAk93zmwbyM/CK5LVqmOd711+htTO/GIsXUfDUflkkQUqFykZC5+JqjSvUcbfS0REcwOjikxV7o6nsm+DqmIpMxW0LG+TgCO7XlUWosg5dROMOP1UqZ/Ygfu93BOvaPQhfgtTbsDfK8Hz6GnIhko0ReraWnTRPcoGs3I+cYDXA4Vr7nx03k1K/HoiTsN7TrekwTrxXnrM9VW2YulxZ1rkIxJ5zp1wWJCWyr8e39st529SsPl22bP7UnCMON3G26pgvKqqt4YVY+sii+un+K411YKU2C3DCtzzMZlbXfU7MquTqYx/c6thDPQgYmbKojine30G2X9pETk/f/8tILQm/PsGP3ubzsw3KGD/wImqf7KyU+qNrLIcqOvomQsJg3DD5W2xSpa3MXtUg7G6fcY1t5crwstY3h483z/3U57v+6r9Cd5HYHAg/seRp16OWaD9yc9Wi+kZ14OhWCXVs4kKLIwQWXvEInAlWYRy0ZVx5Y08I2CvJSkwshmUWDNkl/dIXSMpKDCZbTw4rWIRIWf7rYksHmWUiSVfwNGyziJVo9dn87vqNK/c0gk7xNQsGd5kp5dypzd2L0MNpCXirMXPfWDKkM+JemCePU29zNQoMrXLyXkEHLmXK63sc5pUGNVGnjT0PHna8ojepCQv5HnOa6ZB7nOuytGM80V3alPnD+tR+uyUqAkds/Uo6BxOJXPLEBV7C+ffSHeG/NkVp79lLDJSrsSSNXPLKSU9gOubafIvHmfvToElhcLIfOLrU/tw4SuTLLRla6+O59mnBfVbnLh12hf9iXGOt7GfRnzNLvc9EkhZ160q05y++hN5rHWpqb8+a570U/b7jrq34H3we1/+SnDqhnk2DWURuzXCd6TalWvVxuk2NHZHxDGKrDu3nHYZsnWrZwroJ0/n8k2UfH58xzz0MguPjvx+5lYdIRvm95Fbjf+TsQ8YXTdy4VVlbyWwqkzLpc4fcLQMXwwtom0q6lPJee55G5aNd4jc6SVmJJ5yh59xIz/ydD7nyiIio//Y5NnIk4/WYXgUECg9LpepsXzpcyUlViafUJ97pm6Tkmfv+2zkwj6P+ne+fNDHRmrEPTHloqPKW2LTWvbsqh6zA/GiheSle+mz2fAMALOC7zdFzPmrFwkMOa3PA0Yuc20z7fqiXJH45w5aLBnPZZafqbQDifldYqzIfTWQdWqA1ixJO+XbhQm2W7pyWcLFcNo76tq6TaD0+RbIzFQ66fueyoOIn6XPOuu7R/15qG5mzqzy89Td0P3KYL/sPrzp43aw7fl8yNZAGSi9CMLMz+Ccy5AMWJNj3B7tnTtCcrEiAf3OyULEjutPa5wq5QL8Z8lxI4/FoiqTPI19TreMgM7Zn+ytBVbD+YMf2orYNk7rD648lk/PExlYRjUjYxXrVrCKJVV8hADYQr2hsj94i/IYqFttZR0KBXt8dcR3AMDmOdYQDqK6F506W4pGa5ynarC3S7eeX9bzKJ+FIImNeBsCS1mWykbFvujsZQIrNgKr41bNxgPtNMvHxiXnbIVCSABwKrAF5Ao5AQBE1s6g4KGOfakk/EL+2dDVdyYvc3oX1nF+XzSWyhdLNs8dbSOPWLCUiaW5RywNKvxGTy2GfLemZgVfldUytyUrzgA4RiJkAQAQWftGj0XLlMMiOB4B1hFDJMqqBCssirsSTJ/yxZKVfaMtTRNay1KwcVdLlqs4uq+Mss0edL48m6ql9VW3h5hWDK8AwCHia59uTMwm30AnRdYBAJG1NVis9J3a5oatRu0aQiut0flHFc8rFqwZC6wuC55Z/tm2tveoOu0my58p/8q2AlqIWONA2XHl4S+eOKr0Q4003aDqgiPle0E9oY29ybe0GxgQAgAgsrYqtGL3c8VSh53KtdCKK4gh56qv5Gm58sCGi2sbgTVlcdbbYtbUmZKM3OoquuA5PauEKI9nFc5fZwpwa1OqAGwbrjNpoJ4URdhGnQAAImsnQqvPgopiZ00lflb+IlHTd+Epvro7nH9wxZYsEhvnaopQC6y28s3aVkMeb/CUs4KNhXtus1tAXB3bLu0AGOpG856gTgAAkbVLoSV7R5GweRAfLZ6eo0B2iednjzVFVsj5fRFzJb/Ws5M7+2DtRGApobUp8VNohZOYM24zUXxHxxhHBQBTZ2auumU73tQWKwAAiKzXCi3ZCuBP2USafLfyF00fksN2asRDnU1qIxYSNtDkOU9bLvYlzF/ke7TwwdqVwFK0Xyl+JMJzVtJpzN3r920rspYBcGxCK+b6GRpUpFz3esgtAPaXkwtex+JK9mVahPnXQoen8QbcwD24esun6Tc3LD5WVgryecmC1eDv9kIw8Eq9pzV/3quzr6AJSFoHyseLXUXoBsCUY2pDBtsKjssRxltqIJe8xTZTAACIrE0JLQkt0OFGqy/WJnPcvavulL0YWdo9BzlOl8Sk8h6zB51G19XftHayzjQFr46qMw37IuI8AKcksgAAEFmHKrZabmnVmrPYSjyCjETItUcckGiiab87cWhXv6NzDvi3i41F98V6Feg4ZEufKlDA0Ys1r1NlKx9NLWsZABBZAACIrP0SW7csiGSjy1HAskXfy6aXMyus+BgSYjdKsMRuS0FGX9lxPG9DVIGJb+qOLWKfVD7e+RzVzcayRdDGpROUULBndYXqfwviHwAAkVVdaInIuGYRtRAJrsJegkp8kbhqHpK42qBA825a636ufoJzLgAAAIgs8OykrgXTnAXXTEQTC6uW+2m5IYHVqCPMjkxk6anGhPNLLH4EpvwAAABAZIEVsRWx2NKCIeVXi/+naTPyy/omkdxPCbZi/cX/Plut+PMnzrcE/isAAAAgskBIcIkf0aUIh1MVVkZkkdiUfQfb2gcr/27oeDPb/HOUNQAAACfFv5EF1WAnd4QReIl2gLcrBs88xwAAAAAnwb+QBeA1cPyqlP+dsmWLrFi0iKDLn8+QUwAAAE4NWLLAJqCgpBS4dbHKMBdY+rtF9HtkEQAAgFMDlizwatSGtnZacLEBdv59ilwCAABwasAZGWwUmS50PwOJwocNAAAAAAAAAAAAAAAAAAAAAAAAAAAAAAAAAAAAAAAAAAAAAAAAAAAAAAAAAAAAAAAAAAAAAAAAAAAAAAAAAAAAAAAAAAAAAAAAAAAAAAAAAAAAAAAAAAAAAAAAAAAAAAAAAAAAAAAAAAAAAAAAAAAAAAAAAAAAAAAAAAAAAAAAAAAAAAAAAAAAAAAAAAAAAMDB8X8BBgCujdRZL9MPIgAAAABJRU5ErkJggg==)"
      ],
      "metadata": {
        "id": "ljCfkdPTrBHs"
      }
    },
    {
      "cell_type": "markdown",
      "source": [
        "Actualizado: Julio de 2024"
      ],
      "metadata": {
        "id": "TyzoVlIVAKIl"
      }
    },
    {
      "cell_type": "markdown",
      "source": [
        "### Introducción"
      ],
      "metadata": {
        "id": "lZ2Zmo0qAQWN"
      }
    },
    {
      "cell_type": "markdown",
      "source": [
        "En este colab se busca utilizar una distribución de Normal para hacer un estimado del numero de usuarios del sistema metrobus donde podremos hace un cálculo de probabilidades y simulaciones donde deterinaremos la cantidad de unidades del Metrobús necesarias para suplir la demanda requerida.\n",
        "\n",
        "Partimos de la afluencia diaria de Metrobús CDMX del mes de Mayo de 2024, obtenida del sistema de datos abiertos del gobierno de la CDMX.\n",
        "\n",
        "\n"
      ],
      "metadata": {
        "id": "MY3xw0gqATv6"
      }
    },
    {
      "cell_type": "markdown",
      "source": [
        "### Obtener los datos"
      ],
      "metadata": {
        "id": "fDQf3u_eiElp"
      }
    },
    {
      "cell_type": "markdown",
      "source": [
        "Utilizaremos el conjunto de **Afluencia diaria de Metrobús CDMX** del  sistema de Datos abiertos del Gobierno de la Ciudad de México (Sistema Ajolote).\n",
        "\n",
        "Para más información acerca del conjunto de datos puede visitar:\n",
        "https://datos.cdmx.gob.mx/dataset/afluencia-diaria-de-metrobus-cdmx\n"
      ],
      "metadata": {
        "id": "I9oTYKyFysCn"
      }
    },
    {
      "cell_type": "code",
      "execution_count": null,
      "metadata": {
        "id": "GYxZp2EFg-0B",
        "colab": {
          "base_uri": "https://localhost:8080/"
        },
        "outputId": "28ff860a-4f68-45d6-e5f0-e692bc5dc719"
      },
      "outputs": [
        {
          "output_type": "stream",
          "name": "stdout",
          "text": [
            "Archivo descargado exitosamente.\n"
          ]
        }
      ],
      "source": [
        "import requests\n",
        "\n",
        "def download_file(url, filename):\n",
        "    # This method downloads a file from a URL containing a .txt, .csv, or .zip file,\n",
        "    # for example, and saves it with the name of the filename variable.\n",
        "    try:\n",
        "      response = requests.get(url)\n",
        "      if response.status_code == 200:\n",
        "          with open(filename, 'wb') as file:\n",
        "              file.write(response.content)\n",
        "      print(\"Archivo descargado exitosamente.\")\n",
        "      return True\n",
        "    except:\n",
        "      print(f\"No se pudo recuperar el archivo. Status code: {response.status_code}\")\n",
        "      return None\n",
        "\n",
        "\n",
        "main_url = \"https://datos.cdmx.gob.mx/dataset/f0ff3759-5c5d-41fb-80cc-2a3c8bbab278/resource/f7943c47-835d-4078-93ea-906f64b72f3b/download/afluenciamb_simple_05_2024.csv\"\n",
        "alternative_url = \"https://gist.githubusercontent.com/mevangelista-alvarado/a5e68dbdab03723b63772d75d929769e/raw/82bf55daf57b24e734afe111a17979febaaba2df/afluenciamb_simple_05_2024.csv\"\n",
        "filename = \"afluenciamb_simple_05_2024.csv\"\n",
        "\n",
        "if download_file(main_url, filename) is None:\n",
        "    download_file(alternative_url, filename)"
      ]
    },
    {
      "cell_type": "markdown",
      "source": [
        "### Leemos el archivo"
      ],
      "metadata": {
        "id": "yTibot1qy8x-"
      }
    },
    {
      "cell_type": "code",
      "source": [
        "import pandas as pd\n",
        "\n",
        "df = pd.read_csv(filename)\n",
        "df.head()"
      ],
      "metadata": {
        "colab": {
          "base_uri": "https://localhost:8080/",
          "height": 206
        },
        "id": "JK1lPeAny7EZ",
        "outputId": "3779f6a5-a11f-46ae-fec7-9e60fd5c2036"
      },
      "execution_count": null,
      "outputs": [
        {
          "output_type": "execute_result",
          "data": {
            "text/plain": [
              "        fecha  anio    mes    linea  afluencia\n",
              "0  2005-07-26  2005  Julio  Línea 1  3032667.0\n",
              "1  2005-07-26  2005  Julio  Línea 5        NaN\n",
              "2  2005-07-26  2005  Julio  Línea 2        NaN\n",
              "3  2005-07-26  2005  Julio  Línea 3        NaN\n",
              "4  2005-07-26  2005  Julio  Línea 6        NaN"
            ],
            "text/html": [
              "\n",
              "  <div id=\"df-93aacf37-5993-4d60-8775-c5b864d95f89\" class=\"colab-df-container\">\n",
              "    <div>\n",
              "<style scoped>\n",
              "    .dataframe tbody tr th:only-of-type {\n",
              "        vertical-align: middle;\n",
              "    }\n",
              "\n",
              "    .dataframe tbody tr th {\n",
              "        vertical-align: top;\n",
              "    }\n",
              "\n",
              "    .dataframe thead th {\n",
              "        text-align: right;\n",
              "    }\n",
              "</style>\n",
              "<table border=\"1\" class=\"dataframe\">\n",
              "  <thead>\n",
              "    <tr style=\"text-align: right;\">\n",
              "      <th></th>\n",
              "      <th>fecha</th>\n",
              "      <th>anio</th>\n",
              "      <th>mes</th>\n",
              "      <th>linea</th>\n",
              "      <th>afluencia</th>\n",
              "    </tr>\n",
              "  </thead>\n",
              "  <tbody>\n",
              "    <tr>\n",
              "      <th>0</th>\n",
              "      <td>2005-07-26</td>\n",
              "      <td>2005</td>\n",
              "      <td>Julio</td>\n",
              "      <td>Línea 1</td>\n",
              "      <td>3032667.0</td>\n",
              "    </tr>\n",
              "    <tr>\n",
              "      <th>1</th>\n",
              "      <td>2005-07-26</td>\n",
              "      <td>2005</td>\n",
              "      <td>Julio</td>\n",
              "      <td>Línea 5</td>\n",
              "      <td>NaN</td>\n",
              "    </tr>\n",
              "    <tr>\n",
              "      <th>2</th>\n",
              "      <td>2005-07-26</td>\n",
              "      <td>2005</td>\n",
              "      <td>Julio</td>\n",
              "      <td>Línea 2</td>\n",
              "      <td>NaN</td>\n",
              "    </tr>\n",
              "    <tr>\n",
              "      <th>3</th>\n",
              "      <td>2005-07-26</td>\n",
              "      <td>2005</td>\n",
              "      <td>Julio</td>\n",
              "      <td>Línea 3</td>\n",
              "      <td>NaN</td>\n",
              "    </tr>\n",
              "    <tr>\n",
              "      <th>4</th>\n",
              "      <td>2005-07-26</td>\n",
              "      <td>2005</td>\n",
              "      <td>Julio</td>\n",
              "      <td>Línea 6</td>\n",
              "      <td>NaN</td>\n",
              "    </tr>\n",
              "  </tbody>\n",
              "</table>\n",
              "</div>\n",
              "    <div class=\"colab-df-buttons\">\n",
              "\n",
              "  <div class=\"colab-df-container\">\n",
              "    <button class=\"colab-df-convert\" onclick=\"convertToInteractive('df-93aacf37-5993-4d60-8775-c5b864d95f89')\"\n",
              "            title=\"Convert this dataframe to an interactive table.\"\n",
              "            style=\"display:none;\">\n",
              "\n",
              "  <svg xmlns=\"http://www.w3.org/2000/svg\" height=\"24px\" viewBox=\"0 -960 960 960\">\n",
              "    <path d=\"M120-120v-720h720v720H120Zm60-500h600v-160H180v160Zm220 220h160v-160H400v160Zm0 220h160v-160H400v160ZM180-400h160v-160H180v160Zm440 0h160v-160H620v160ZM180-180h160v-160H180v160Zm440 0h160v-160H620v160Z\"/>\n",
              "  </svg>\n",
              "    </button>\n",
              "\n",
              "  <style>\n",
              "    .colab-df-container {\n",
              "      display:flex;\n",
              "      gap: 12px;\n",
              "    }\n",
              "\n",
              "    .colab-df-convert {\n",
              "      background-color: #E8F0FE;\n",
              "      border: none;\n",
              "      border-radius: 50%;\n",
              "      cursor: pointer;\n",
              "      display: none;\n",
              "      fill: #1967D2;\n",
              "      height: 32px;\n",
              "      padding: 0 0 0 0;\n",
              "      width: 32px;\n",
              "    }\n",
              "\n",
              "    .colab-df-convert:hover {\n",
              "      background-color: #E2EBFA;\n",
              "      box-shadow: 0px 1px 2px rgba(60, 64, 67, 0.3), 0px 1px 3px 1px rgba(60, 64, 67, 0.15);\n",
              "      fill: #174EA6;\n",
              "    }\n",
              "\n",
              "    .colab-df-buttons div {\n",
              "      margin-bottom: 4px;\n",
              "    }\n",
              "\n",
              "    [theme=dark] .colab-df-convert {\n",
              "      background-color: #3B4455;\n",
              "      fill: #D2E3FC;\n",
              "    }\n",
              "\n",
              "    [theme=dark] .colab-df-convert:hover {\n",
              "      background-color: #434B5C;\n",
              "      box-shadow: 0px 1px 3px 1px rgba(0, 0, 0, 0.15);\n",
              "      filter: drop-shadow(0px 1px 2px rgba(0, 0, 0, 0.3));\n",
              "      fill: #FFFFFF;\n",
              "    }\n",
              "  </style>\n",
              "\n",
              "    <script>\n",
              "      const buttonEl =\n",
              "        document.querySelector('#df-93aacf37-5993-4d60-8775-c5b864d95f89 button.colab-df-convert');\n",
              "      buttonEl.style.display =\n",
              "        google.colab.kernel.accessAllowed ? 'block' : 'none';\n",
              "\n",
              "      async function convertToInteractive(key) {\n",
              "        const element = document.querySelector('#df-93aacf37-5993-4d60-8775-c5b864d95f89');\n",
              "        const dataTable =\n",
              "          await google.colab.kernel.invokeFunction('convertToInteractive',\n",
              "                                                    [key], {});\n",
              "        if (!dataTable) return;\n",
              "\n",
              "        const docLinkHtml = 'Like what you see? Visit the ' +\n",
              "          '<a target=\"_blank\" href=https://colab.research.google.com/notebooks/data_table.ipynb>data table notebook</a>'\n",
              "          + ' to learn more about interactive tables.';\n",
              "        element.innerHTML = '';\n",
              "        dataTable['output_type'] = 'display_data';\n",
              "        await google.colab.output.renderOutput(dataTable, element);\n",
              "        const docLink = document.createElement('div');\n",
              "        docLink.innerHTML = docLinkHtml;\n",
              "        element.appendChild(docLink);\n",
              "      }\n",
              "    </script>\n",
              "  </div>\n",
              "\n",
              "\n",
              "<div id=\"df-e29cc490-0585-4525-a52b-e1d829e8291f\">\n",
              "  <button class=\"colab-df-quickchart\" onclick=\"quickchart('df-e29cc490-0585-4525-a52b-e1d829e8291f')\"\n",
              "            title=\"Suggest charts\"\n",
              "            style=\"display:none;\">\n",
              "\n",
              "<svg xmlns=\"http://www.w3.org/2000/svg\" height=\"24px\"viewBox=\"0 0 24 24\"\n",
              "     width=\"24px\">\n",
              "    <g>\n",
              "        <path d=\"M19 3H5c-1.1 0-2 .9-2 2v14c0 1.1.9 2 2 2h14c1.1 0 2-.9 2-2V5c0-1.1-.9-2-2-2zM9 17H7v-7h2v7zm4 0h-2V7h2v10zm4 0h-2v-4h2v4z\"/>\n",
              "    </g>\n",
              "</svg>\n",
              "  </button>\n",
              "\n",
              "<style>\n",
              "  .colab-df-quickchart {\n",
              "      --bg-color: #E8F0FE;\n",
              "      --fill-color: #1967D2;\n",
              "      --hover-bg-color: #E2EBFA;\n",
              "      --hover-fill-color: #174EA6;\n",
              "      --disabled-fill-color: #AAA;\n",
              "      --disabled-bg-color: #DDD;\n",
              "  }\n",
              "\n",
              "  [theme=dark] .colab-df-quickchart {\n",
              "      --bg-color: #3B4455;\n",
              "      --fill-color: #D2E3FC;\n",
              "      --hover-bg-color: #434B5C;\n",
              "      --hover-fill-color: #FFFFFF;\n",
              "      --disabled-bg-color: #3B4455;\n",
              "      --disabled-fill-color: #666;\n",
              "  }\n",
              "\n",
              "  .colab-df-quickchart {\n",
              "    background-color: var(--bg-color);\n",
              "    border: none;\n",
              "    border-radius: 50%;\n",
              "    cursor: pointer;\n",
              "    display: none;\n",
              "    fill: var(--fill-color);\n",
              "    height: 32px;\n",
              "    padding: 0;\n",
              "    width: 32px;\n",
              "  }\n",
              "\n",
              "  .colab-df-quickchart:hover {\n",
              "    background-color: var(--hover-bg-color);\n",
              "    box-shadow: 0 1px 2px rgba(60, 64, 67, 0.3), 0 1px 3px 1px rgba(60, 64, 67, 0.15);\n",
              "    fill: var(--button-hover-fill-color);\n",
              "  }\n",
              "\n",
              "  .colab-df-quickchart-complete:disabled,\n",
              "  .colab-df-quickchart-complete:disabled:hover {\n",
              "    background-color: var(--disabled-bg-color);\n",
              "    fill: var(--disabled-fill-color);\n",
              "    box-shadow: none;\n",
              "  }\n",
              "\n",
              "  .colab-df-spinner {\n",
              "    border: 2px solid var(--fill-color);\n",
              "    border-color: transparent;\n",
              "    border-bottom-color: var(--fill-color);\n",
              "    animation:\n",
              "      spin 1s steps(1) infinite;\n",
              "  }\n",
              "\n",
              "  @keyframes spin {\n",
              "    0% {\n",
              "      border-color: transparent;\n",
              "      border-bottom-color: var(--fill-color);\n",
              "      border-left-color: var(--fill-color);\n",
              "    }\n",
              "    20% {\n",
              "      border-color: transparent;\n",
              "      border-left-color: var(--fill-color);\n",
              "      border-top-color: var(--fill-color);\n",
              "    }\n",
              "    30% {\n",
              "      border-color: transparent;\n",
              "      border-left-color: var(--fill-color);\n",
              "      border-top-color: var(--fill-color);\n",
              "      border-right-color: var(--fill-color);\n",
              "    }\n",
              "    40% {\n",
              "      border-color: transparent;\n",
              "      border-right-color: var(--fill-color);\n",
              "      border-top-color: var(--fill-color);\n",
              "    }\n",
              "    60% {\n",
              "      border-color: transparent;\n",
              "      border-right-color: var(--fill-color);\n",
              "    }\n",
              "    80% {\n",
              "      border-color: transparent;\n",
              "      border-right-color: var(--fill-color);\n",
              "      border-bottom-color: var(--fill-color);\n",
              "    }\n",
              "    90% {\n",
              "      border-color: transparent;\n",
              "      border-bottom-color: var(--fill-color);\n",
              "    }\n",
              "  }\n",
              "</style>\n",
              "\n",
              "  <script>\n",
              "    async function quickchart(key) {\n",
              "      const quickchartButtonEl =\n",
              "        document.querySelector('#' + key + ' button');\n",
              "      quickchartButtonEl.disabled = true;  // To prevent multiple clicks.\n",
              "      quickchartButtonEl.classList.add('colab-df-spinner');\n",
              "      try {\n",
              "        const charts = await google.colab.kernel.invokeFunction(\n",
              "            'suggestCharts', [key], {});\n",
              "      } catch (error) {\n",
              "        console.error('Error during call to suggestCharts:', error);\n",
              "      }\n",
              "      quickchartButtonEl.classList.remove('colab-df-spinner');\n",
              "      quickchartButtonEl.classList.add('colab-df-quickchart-complete');\n",
              "    }\n",
              "    (() => {\n",
              "      let quickchartButtonEl =\n",
              "        document.querySelector('#df-e29cc490-0585-4525-a52b-e1d829e8291f button');\n",
              "      quickchartButtonEl.style.display =\n",
              "        google.colab.kernel.accessAllowed ? 'block' : 'none';\n",
              "    })();\n",
              "  </script>\n",
              "</div>\n",
              "\n",
              "    </div>\n",
              "  </div>\n"
            ],
            "application/vnd.google.colaboratory.intrinsic+json": {
              "type": "dataframe",
              "variable_name": "df",
              "summary": "{\n  \"name\": \"df\",\n  \"rows\": 48195,\n  \"fields\": [\n    {\n      \"column\": \"fecha\",\n      \"properties\": {\n        \"dtype\": \"object\",\n        \"num_unique_values\": 6885,\n        \"samples\": [\n          \"2022-02-06\",\n          \"2015-03-14\",\n          \"2007-06-09\"\n        ],\n        \"semantic_type\": \"\",\n        \"description\": \"\"\n      }\n    },\n    {\n      \"column\": \"anio\",\n      \"properties\": {\n        \"dtype\": \"number\",\n        \"std\": 5,\n        \"min\": 2005,\n        \"max\": 2024,\n        \"num_unique_values\": 20,\n        \"samples\": [\n          2005,\n          2022,\n          2020\n        ],\n        \"semantic_type\": \"\",\n        \"description\": \"\"\n      }\n    },\n    {\n      \"column\": \"mes\",\n      \"properties\": {\n        \"dtype\": \"category\",\n        \"num_unique_values\": 12,\n        \"samples\": [\n          \"Mayo\",\n          \"Abril\",\n          \"Julio\"\n        ],\n        \"semantic_type\": \"\",\n        \"description\": \"\"\n      }\n    },\n    {\n      \"column\": \"linea\",\n      \"properties\": {\n        \"dtype\": \"category\",\n        \"num_unique_values\": 14,\n        \"samples\": [\n          \"linea 3\",\n          \"linea 5\",\n          \"L\\u00ednea 1\"\n        ],\n        \"semantic_type\": \"\",\n        \"description\": \"\"\n      }\n    },\n    {\n      \"column\": \"afluencia\",\n      \"properties\": {\n        \"dtype\": \"number\",\n        \"std\": 116961.10283177021,\n        \"min\": 9.0,\n        \"max\": 3032667.0,\n        \"num_unique_values\": 29314,\n        \"samples\": [\n          209578.0,\n          79537.0,\n          133777.0\n        ],\n        \"semantic_type\": \"\",\n        \"description\": \"\"\n      }\n    }\n  ]\n}"
            }
          },
          "metadata": {},
          "execution_count": 9
        }
      ]
    },
    {
      "cell_type": "markdown",
      "source": [
        "Notamos la cantidad total"
      ],
      "metadata": {
        "id": "IXiIBl8M4W6k"
      }
    },
    {
      "cell_type": "code",
      "source": [
        "df.shape"
      ],
      "metadata": {
        "id": "T3tZel8Hri3A",
        "colab": {
          "base_uri": "https://localhost:8080/"
        },
        "outputId": "d8f4f08f-bed5-4aa8-cdd8-6a41aba45051"
      },
      "execution_count": null,
      "outputs": [
        {
          "output_type": "execute_result",
          "data": {
            "text/plain": [
              "(48195, 5)"
            ]
          },
          "metadata": {},
          "execution_count": 10
        }
      ]
    },
    {
      "cell_type": "markdown",
      "source": [
        "Exploramos las columnas del dataframe"
      ],
      "metadata": {
        "id": "hRXye8GO4sRd"
      }
    },
    {
      "cell_type": "code",
      "source": [
        "df.columns"
      ],
      "metadata": {
        "colab": {
          "base_uri": "https://localhost:8080/"
        },
        "id": "iVTGfF3P4qdn",
        "outputId": "8de6f8ae-4d6a-4bf1-9fdd-fcd2f8612ef8"
      },
      "execution_count": null,
      "outputs": [
        {
          "output_type": "execute_result",
          "data": {
            "text/plain": [
              "Index(['fecha', 'anio', 'mes', 'linea', 'afluencia'], dtype='object')"
            ]
          },
          "metadata": {},
          "execution_count": 11
        }
      ]
    },
    {
      "cell_type": "markdown",
      "source": [
        "### Tratamiento de datos"
      ],
      "metadata": {
        "id": "UdG7aX_a50Xx"
      }
    },
    {
      "cell_type": "markdown",
      "source": [
        "#### Filtro los datos para el mes de Mayo de 2024"
      ],
      "metadata": {
        "id": "WCzFI26A523q"
      }
    },
    {
      "cell_type": "code",
      "source": [
        "df_05_24 = df[(df['anio'] == 2024) & (df['mes'] == 'Mayo')]\n",
        "df_05_24.head(7)"
      ],
      "metadata": {
        "colab": {
          "base_uri": "https://localhost:8080/",
          "height": 269
        },
        "id": "uUdEfvcZ51nb",
        "outputId": "eb92f31f-86dd-41cb-8b36-3ed637ede650"
      },
      "execution_count": null,
      "outputs": [
        {
          "output_type": "execute_result",
          "data": {
            "text/plain": [
              "            fecha  anio   mes    linea  afluencia\n",
              "47978  2024-05-01  2024  Mayo  Línea 1   245627.0\n",
              "47979  2024-05-01  2024  Mayo  Línea 2   135960.0\n",
              "47980  2024-05-01  2024  Mayo  Línea 3   121007.0\n",
              "47981  2024-05-01  2024  Mayo  Línea 4    72624.0\n",
              "47982  2024-05-01  2024  Mayo  Línea 5   174557.0\n",
              "47983  2024-05-01  2024  Mayo  Línea 6   114049.0\n",
              "47984  2024-05-01  2024  Mayo  Línea 7    91081.0"
            ],
            "text/html": [
              "\n",
              "  <div id=\"df-75a37604-c701-49b4-b541-d845ba1b4dc7\" class=\"colab-df-container\">\n",
              "    <div>\n",
              "<style scoped>\n",
              "    .dataframe tbody tr th:only-of-type {\n",
              "        vertical-align: middle;\n",
              "    }\n",
              "\n",
              "    .dataframe tbody tr th {\n",
              "        vertical-align: top;\n",
              "    }\n",
              "\n",
              "    .dataframe thead th {\n",
              "        text-align: right;\n",
              "    }\n",
              "</style>\n",
              "<table border=\"1\" class=\"dataframe\">\n",
              "  <thead>\n",
              "    <tr style=\"text-align: right;\">\n",
              "      <th></th>\n",
              "      <th>fecha</th>\n",
              "      <th>anio</th>\n",
              "      <th>mes</th>\n",
              "      <th>linea</th>\n",
              "      <th>afluencia</th>\n",
              "    </tr>\n",
              "  </thead>\n",
              "  <tbody>\n",
              "    <tr>\n",
              "      <th>47978</th>\n",
              "      <td>2024-05-01</td>\n",
              "      <td>2024</td>\n",
              "      <td>Mayo</td>\n",
              "      <td>Línea 1</td>\n",
              "      <td>245627.0</td>\n",
              "    </tr>\n",
              "    <tr>\n",
              "      <th>47979</th>\n",
              "      <td>2024-05-01</td>\n",
              "      <td>2024</td>\n",
              "      <td>Mayo</td>\n",
              "      <td>Línea 2</td>\n",
              "      <td>135960.0</td>\n",
              "    </tr>\n",
              "    <tr>\n",
              "      <th>47980</th>\n",
              "      <td>2024-05-01</td>\n",
              "      <td>2024</td>\n",
              "      <td>Mayo</td>\n",
              "      <td>Línea 3</td>\n",
              "      <td>121007.0</td>\n",
              "    </tr>\n",
              "    <tr>\n",
              "      <th>47981</th>\n",
              "      <td>2024-05-01</td>\n",
              "      <td>2024</td>\n",
              "      <td>Mayo</td>\n",
              "      <td>Línea 4</td>\n",
              "      <td>72624.0</td>\n",
              "    </tr>\n",
              "    <tr>\n",
              "      <th>47982</th>\n",
              "      <td>2024-05-01</td>\n",
              "      <td>2024</td>\n",
              "      <td>Mayo</td>\n",
              "      <td>Línea 5</td>\n",
              "      <td>174557.0</td>\n",
              "    </tr>\n",
              "    <tr>\n",
              "      <th>47983</th>\n",
              "      <td>2024-05-01</td>\n",
              "      <td>2024</td>\n",
              "      <td>Mayo</td>\n",
              "      <td>Línea 6</td>\n",
              "      <td>114049.0</td>\n",
              "    </tr>\n",
              "    <tr>\n",
              "      <th>47984</th>\n",
              "      <td>2024-05-01</td>\n",
              "      <td>2024</td>\n",
              "      <td>Mayo</td>\n",
              "      <td>Línea 7</td>\n",
              "      <td>91081.0</td>\n",
              "    </tr>\n",
              "  </tbody>\n",
              "</table>\n",
              "</div>\n",
              "    <div class=\"colab-df-buttons\">\n",
              "\n",
              "  <div class=\"colab-df-container\">\n",
              "    <button class=\"colab-df-convert\" onclick=\"convertToInteractive('df-75a37604-c701-49b4-b541-d845ba1b4dc7')\"\n",
              "            title=\"Convert this dataframe to an interactive table.\"\n",
              "            style=\"display:none;\">\n",
              "\n",
              "  <svg xmlns=\"http://www.w3.org/2000/svg\" height=\"24px\" viewBox=\"0 -960 960 960\">\n",
              "    <path d=\"M120-120v-720h720v720H120Zm60-500h600v-160H180v160Zm220 220h160v-160H400v160Zm0 220h160v-160H400v160ZM180-400h160v-160H180v160Zm440 0h160v-160H620v160ZM180-180h160v-160H180v160Zm440 0h160v-160H620v160Z\"/>\n",
              "  </svg>\n",
              "    </button>\n",
              "\n",
              "  <style>\n",
              "    .colab-df-container {\n",
              "      display:flex;\n",
              "      gap: 12px;\n",
              "    }\n",
              "\n",
              "    .colab-df-convert {\n",
              "      background-color: #E8F0FE;\n",
              "      border: none;\n",
              "      border-radius: 50%;\n",
              "      cursor: pointer;\n",
              "      display: none;\n",
              "      fill: #1967D2;\n",
              "      height: 32px;\n",
              "      padding: 0 0 0 0;\n",
              "      width: 32px;\n",
              "    }\n",
              "\n",
              "    .colab-df-convert:hover {\n",
              "      background-color: #E2EBFA;\n",
              "      box-shadow: 0px 1px 2px rgba(60, 64, 67, 0.3), 0px 1px 3px 1px rgba(60, 64, 67, 0.15);\n",
              "      fill: #174EA6;\n",
              "    }\n",
              "\n",
              "    .colab-df-buttons div {\n",
              "      margin-bottom: 4px;\n",
              "    }\n",
              "\n",
              "    [theme=dark] .colab-df-convert {\n",
              "      background-color: #3B4455;\n",
              "      fill: #D2E3FC;\n",
              "    }\n",
              "\n",
              "    [theme=dark] .colab-df-convert:hover {\n",
              "      background-color: #434B5C;\n",
              "      box-shadow: 0px 1px 3px 1px rgba(0, 0, 0, 0.15);\n",
              "      filter: drop-shadow(0px 1px 2px rgba(0, 0, 0, 0.3));\n",
              "      fill: #FFFFFF;\n",
              "    }\n",
              "  </style>\n",
              "\n",
              "    <script>\n",
              "      const buttonEl =\n",
              "        document.querySelector('#df-75a37604-c701-49b4-b541-d845ba1b4dc7 button.colab-df-convert');\n",
              "      buttonEl.style.display =\n",
              "        google.colab.kernel.accessAllowed ? 'block' : 'none';\n",
              "\n",
              "      async function convertToInteractive(key) {\n",
              "        const element = document.querySelector('#df-75a37604-c701-49b4-b541-d845ba1b4dc7');\n",
              "        const dataTable =\n",
              "          await google.colab.kernel.invokeFunction('convertToInteractive',\n",
              "                                                    [key], {});\n",
              "        if (!dataTable) return;\n",
              "\n",
              "        const docLinkHtml = 'Like what you see? Visit the ' +\n",
              "          '<a target=\"_blank\" href=https://colab.research.google.com/notebooks/data_table.ipynb>data table notebook</a>'\n",
              "          + ' to learn more about interactive tables.';\n",
              "        element.innerHTML = '';\n",
              "        dataTable['output_type'] = 'display_data';\n",
              "        await google.colab.output.renderOutput(dataTable, element);\n",
              "        const docLink = document.createElement('div');\n",
              "        docLink.innerHTML = docLinkHtml;\n",
              "        element.appendChild(docLink);\n",
              "      }\n",
              "    </script>\n",
              "  </div>\n",
              "\n",
              "\n",
              "<div id=\"df-f2aa2423-2bb9-4f70-a73b-de0d7d42f86f\">\n",
              "  <button class=\"colab-df-quickchart\" onclick=\"quickchart('df-f2aa2423-2bb9-4f70-a73b-de0d7d42f86f')\"\n",
              "            title=\"Suggest charts\"\n",
              "            style=\"display:none;\">\n",
              "\n",
              "<svg xmlns=\"http://www.w3.org/2000/svg\" height=\"24px\"viewBox=\"0 0 24 24\"\n",
              "     width=\"24px\">\n",
              "    <g>\n",
              "        <path d=\"M19 3H5c-1.1 0-2 .9-2 2v14c0 1.1.9 2 2 2h14c1.1 0 2-.9 2-2V5c0-1.1-.9-2-2-2zM9 17H7v-7h2v7zm4 0h-2V7h2v10zm4 0h-2v-4h2v4z\"/>\n",
              "    </g>\n",
              "</svg>\n",
              "  </button>\n",
              "\n",
              "<style>\n",
              "  .colab-df-quickchart {\n",
              "      --bg-color: #E8F0FE;\n",
              "      --fill-color: #1967D2;\n",
              "      --hover-bg-color: #E2EBFA;\n",
              "      --hover-fill-color: #174EA6;\n",
              "      --disabled-fill-color: #AAA;\n",
              "      --disabled-bg-color: #DDD;\n",
              "  }\n",
              "\n",
              "  [theme=dark] .colab-df-quickchart {\n",
              "      --bg-color: #3B4455;\n",
              "      --fill-color: #D2E3FC;\n",
              "      --hover-bg-color: #434B5C;\n",
              "      --hover-fill-color: #FFFFFF;\n",
              "      --disabled-bg-color: #3B4455;\n",
              "      --disabled-fill-color: #666;\n",
              "  }\n",
              "\n",
              "  .colab-df-quickchart {\n",
              "    background-color: var(--bg-color);\n",
              "    border: none;\n",
              "    border-radius: 50%;\n",
              "    cursor: pointer;\n",
              "    display: none;\n",
              "    fill: var(--fill-color);\n",
              "    height: 32px;\n",
              "    padding: 0;\n",
              "    width: 32px;\n",
              "  }\n",
              "\n",
              "  .colab-df-quickchart:hover {\n",
              "    background-color: var(--hover-bg-color);\n",
              "    box-shadow: 0 1px 2px rgba(60, 64, 67, 0.3), 0 1px 3px 1px rgba(60, 64, 67, 0.15);\n",
              "    fill: var(--button-hover-fill-color);\n",
              "  }\n",
              "\n",
              "  .colab-df-quickchart-complete:disabled,\n",
              "  .colab-df-quickchart-complete:disabled:hover {\n",
              "    background-color: var(--disabled-bg-color);\n",
              "    fill: var(--disabled-fill-color);\n",
              "    box-shadow: none;\n",
              "  }\n",
              "\n",
              "  .colab-df-spinner {\n",
              "    border: 2px solid var(--fill-color);\n",
              "    border-color: transparent;\n",
              "    border-bottom-color: var(--fill-color);\n",
              "    animation:\n",
              "      spin 1s steps(1) infinite;\n",
              "  }\n",
              "\n",
              "  @keyframes spin {\n",
              "    0% {\n",
              "      border-color: transparent;\n",
              "      border-bottom-color: var(--fill-color);\n",
              "      border-left-color: var(--fill-color);\n",
              "    }\n",
              "    20% {\n",
              "      border-color: transparent;\n",
              "      border-left-color: var(--fill-color);\n",
              "      border-top-color: var(--fill-color);\n",
              "    }\n",
              "    30% {\n",
              "      border-color: transparent;\n",
              "      border-left-color: var(--fill-color);\n",
              "      border-top-color: var(--fill-color);\n",
              "      border-right-color: var(--fill-color);\n",
              "    }\n",
              "    40% {\n",
              "      border-color: transparent;\n",
              "      border-right-color: var(--fill-color);\n",
              "      border-top-color: var(--fill-color);\n",
              "    }\n",
              "    60% {\n",
              "      border-color: transparent;\n",
              "      border-right-color: var(--fill-color);\n",
              "    }\n",
              "    80% {\n",
              "      border-color: transparent;\n",
              "      border-right-color: var(--fill-color);\n",
              "      border-bottom-color: var(--fill-color);\n",
              "    }\n",
              "    90% {\n",
              "      border-color: transparent;\n",
              "      border-bottom-color: var(--fill-color);\n",
              "    }\n",
              "  }\n",
              "</style>\n",
              "\n",
              "  <script>\n",
              "    async function quickchart(key) {\n",
              "      const quickchartButtonEl =\n",
              "        document.querySelector('#' + key + ' button');\n",
              "      quickchartButtonEl.disabled = true;  // To prevent multiple clicks.\n",
              "      quickchartButtonEl.classList.add('colab-df-spinner');\n",
              "      try {\n",
              "        const charts = await google.colab.kernel.invokeFunction(\n",
              "            'suggestCharts', [key], {});\n",
              "      } catch (error) {\n",
              "        console.error('Error during call to suggestCharts:', error);\n",
              "      }\n",
              "      quickchartButtonEl.classList.remove('colab-df-spinner');\n",
              "      quickchartButtonEl.classList.add('colab-df-quickchart-complete');\n",
              "    }\n",
              "    (() => {\n",
              "      let quickchartButtonEl =\n",
              "        document.querySelector('#df-f2aa2423-2bb9-4f70-a73b-de0d7d42f86f button');\n",
              "      quickchartButtonEl.style.display =\n",
              "        google.colab.kernel.accessAllowed ? 'block' : 'none';\n",
              "    })();\n",
              "  </script>\n",
              "</div>\n",
              "\n",
              "    </div>\n",
              "  </div>\n"
            ],
            "application/vnd.google.colaboratory.intrinsic+json": {
              "type": "dataframe",
              "variable_name": "df_05_24",
              "repr_error": "0"
            }
          },
          "metadata": {},
          "execution_count": 14
        }
      ]
    },
    {
      "cell_type": "markdown",
      "source": [
        "Notamos la cantidad total"
      ],
      "metadata": {
        "id": "qV1mdOq48HFn"
      }
    },
    {
      "cell_type": "code",
      "source": [
        "df_05_24.shape"
      ],
      "metadata": {
        "colab": {
          "base_uri": "https://localhost:8080/"
        },
        "id": "smO8TECP7EqG",
        "outputId": "3a0dbdfe-8843-45dd-f6c1-16d4be222c96"
      },
      "execution_count": null,
      "outputs": [
        {
          "output_type": "execute_result",
          "data": {
            "text/plain": [
              "(217, 5)"
            ]
          },
          "metadata": {},
          "execution_count": 15
        }
      ]
    },
    {
      "cell_type": "markdown",
      "source": [
        "#### Filtramos por la Línea 1"
      ],
      "metadata": {
        "id": "6v0xfPLQ6WfV"
      }
    },
    {
      "cell_type": "code",
      "source": [
        "df_05_24_l1 = df_05_24[df_05_24['linea']== \"Línea 1\"]\n",
        "df_05_24_l1.head()"
      ],
      "metadata": {
        "colab": {
          "base_uri": "https://localhost:8080/",
          "height": 1000
        },
        "id": "7ii63ZQl6WCu",
        "outputId": "f6ee6c67-82ee-4ebc-a32f-04e1b660d2a3"
      },
      "execution_count": null,
      "outputs": [
        {
          "output_type": "execute_result",
          "data": {
            "text/plain": [
              "            fecha  anio   mes    linea  afluencia\n",
              "47978  2024-05-01  2024  Mayo  Línea 1   245627.0\n",
              "47985  2024-05-02  2024  Mayo  Línea 1   486717.0\n",
              "47992  2024-05-03  2024  Mayo  Línea 1   483295.0\n",
              "47999  2024-05-04  2024  Mayo  Línea 1   329054.0\n",
              "48006  2024-05-05  2024  Mayo  Línea 1   221653.0\n",
              "48013  2024-05-06  2024  Mayo  Línea 1   456678.0\n",
              "48020  2024-05-07  2024  Mayo  Línea 1   497636.0\n",
              "48027  2024-05-08  2024  Mayo  Línea 1   496831.0\n",
              "48034  2024-05-09  2024  Mayo  Línea 1   498108.0\n",
              "48041  2024-05-10  2024  Mayo  Línea 1   375603.0\n",
              "48048  2024-05-11  2024  Mayo  Línea 1   297688.0\n",
              "48055  2024-05-12  2024  Mayo  Línea 1   205464.0\n",
              "48062  2024-05-13  2024  Mayo  Línea 1   472907.0\n",
              "48069  2024-05-14  2024  Mayo  Línea 1   513965.0\n",
              "48076  2024-05-15  2024  Mayo  Línea 1   485837.0\n",
              "48083  2024-05-16  2024  Mayo  Línea 1   506795.0\n",
              "48090  2024-05-17  2024  Mayo  Línea 1   518825.0\n",
              "48097  2024-05-18  2024  Mayo  Línea 1   386737.0\n",
              "48104  2024-05-19  2024  Mayo  Línea 1   245282.0\n",
              "48111  2024-05-20  2024  Mayo  Línea 1   412775.0\n",
              "48118  2024-05-21  2024  Mayo  Línea 1   434020.0\n",
              "48125  2024-05-22  2024  Mayo  Línea 1   505332.0\n",
              "48132  2024-05-23  2024  Mayo  Línea 1   495591.0\n",
              "48139  2024-05-24  2024  Mayo  Línea 1   509356.0\n",
              "48146  2024-05-25  2024  Mayo  Línea 1   389015.0\n",
              "48153  2024-05-26  2024  Mayo  Línea 1   233387.0\n",
              "48160  2024-05-27  2024  Mayo  Línea 1   402990.0\n",
              "48167  2024-05-28  2024  Mayo  Línea 1   440618.0\n",
              "48174  2024-05-29  2024  Mayo  Línea 1   485157.0\n",
              "48181  2024-05-30  2024  Mayo  Línea 1   497296.0\n",
              "48188  2024-05-31  2024  Mayo  Línea 1   508119.0"
            ],
            "text/html": [
              "\n",
              "  <div id=\"df-48d9b1c3-75ed-41d7-a54d-40171f5010c6\" class=\"colab-df-container\">\n",
              "    <div>\n",
              "<style scoped>\n",
              "    .dataframe tbody tr th:only-of-type {\n",
              "        vertical-align: middle;\n",
              "    }\n",
              "\n",
              "    .dataframe tbody tr th {\n",
              "        vertical-align: top;\n",
              "    }\n",
              "\n",
              "    .dataframe thead th {\n",
              "        text-align: right;\n",
              "    }\n",
              "</style>\n",
              "<table border=\"1\" class=\"dataframe\">\n",
              "  <thead>\n",
              "    <tr style=\"text-align: right;\">\n",
              "      <th></th>\n",
              "      <th>fecha</th>\n",
              "      <th>anio</th>\n",
              "      <th>mes</th>\n",
              "      <th>linea</th>\n",
              "      <th>afluencia</th>\n",
              "    </tr>\n",
              "  </thead>\n",
              "  <tbody>\n",
              "    <tr>\n",
              "      <th>47978</th>\n",
              "      <td>2024-05-01</td>\n",
              "      <td>2024</td>\n",
              "      <td>Mayo</td>\n",
              "      <td>Línea 1</td>\n",
              "      <td>245627.0</td>\n",
              "    </tr>\n",
              "    <tr>\n",
              "      <th>47985</th>\n",
              "      <td>2024-05-02</td>\n",
              "      <td>2024</td>\n",
              "      <td>Mayo</td>\n",
              "      <td>Línea 1</td>\n",
              "      <td>486717.0</td>\n",
              "    </tr>\n",
              "    <tr>\n",
              "      <th>47992</th>\n",
              "      <td>2024-05-03</td>\n",
              "      <td>2024</td>\n",
              "      <td>Mayo</td>\n",
              "      <td>Línea 1</td>\n",
              "      <td>483295.0</td>\n",
              "    </tr>\n",
              "    <tr>\n",
              "      <th>47999</th>\n",
              "      <td>2024-05-04</td>\n",
              "      <td>2024</td>\n",
              "      <td>Mayo</td>\n",
              "      <td>Línea 1</td>\n",
              "      <td>329054.0</td>\n",
              "    </tr>\n",
              "    <tr>\n",
              "      <th>48006</th>\n",
              "      <td>2024-05-05</td>\n",
              "      <td>2024</td>\n",
              "      <td>Mayo</td>\n",
              "      <td>Línea 1</td>\n",
              "      <td>221653.0</td>\n",
              "    </tr>\n",
              "    <tr>\n",
              "      <th>48013</th>\n",
              "      <td>2024-05-06</td>\n",
              "      <td>2024</td>\n",
              "      <td>Mayo</td>\n",
              "      <td>Línea 1</td>\n",
              "      <td>456678.0</td>\n",
              "    </tr>\n",
              "    <tr>\n",
              "      <th>48020</th>\n",
              "      <td>2024-05-07</td>\n",
              "      <td>2024</td>\n",
              "      <td>Mayo</td>\n",
              "      <td>Línea 1</td>\n",
              "      <td>497636.0</td>\n",
              "    </tr>\n",
              "    <tr>\n",
              "      <th>48027</th>\n",
              "      <td>2024-05-08</td>\n",
              "      <td>2024</td>\n",
              "      <td>Mayo</td>\n",
              "      <td>Línea 1</td>\n",
              "      <td>496831.0</td>\n",
              "    </tr>\n",
              "    <tr>\n",
              "      <th>48034</th>\n",
              "      <td>2024-05-09</td>\n",
              "      <td>2024</td>\n",
              "      <td>Mayo</td>\n",
              "      <td>Línea 1</td>\n",
              "      <td>498108.0</td>\n",
              "    </tr>\n",
              "    <tr>\n",
              "      <th>48041</th>\n",
              "      <td>2024-05-10</td>\n",
              "      <td>2024</td>\n",
              "      <td>Mayo</td>\n",
              "      <td>Línea 1</td>\n",
              "      <td>375603.0</td>\n",
              "    </tr>\n",
              "    <tr>\n",
              "      <th>48048</th>\n",
              "      <td>2024-05-11</td>\n",
              "      <td>2024</td>\n",
              "      <td>Mayo</td>\n",
              "      <td>Línea 1</td>\n",
              "      <td>297688.0</td>\n",
              "    </tr>\n",
              "    <tr>\n",
              "      <th>48055</th>\n",
              "      <td>2024-05-12</td>\n",
              "      <td>2024</td>\n",
              "      <td>Mayo</td>\n",
              "      <td>Línea 1</td>\n",
              "      <td>205464.0</td>\n",
              "    </tr>\n",
              "    <tr>\n",
              "      <th>48062</th>\n",
              "      <td>2024-05-13</td>\n",
              "      <td>2024</td>\n",
              "      <td>Mayo</td>\n",
              "      <td>Línea 1</td>\n",
              "      <td>472907.0</td>\n",
              "    </tr>\n",
              "    <tr>\n",
              "      <th>48069</th>\n",
              "      <td>2024-05-14</td>\n",
              "      <td>2024</td>\n",
              "      <td>Mayo</td>\n",
              "      <td>Línea 1</td>\n",
              "      <td>513965.0</td>\n",
              "    </tr>\n",
              "    <tr>\n",
              "      <th>48076</th>\n",
              "      <td>2024-05-15</td>\n",
              "      <td>2024</td>\n",
              "      <td>Mayo</td>\n",
              "      <td>Línea 1</td>\n",
              "      <td>485837.0</td>\n",
              "    </tr>\n",
              "    <tr>\n",
              "      <th>48083</th>\n",
              "      <td>2024-05-16</td>\n",
              "      <td>2024</td>\n",
              "      <td>Mayo</td>\n",
              "      <td>Línea 1</td>\n",
              "      <td>506795.0</td>\n",
              "    </tr>\n",
              "    <tr>\n",
              "      <th>48090</th>\n",
              "      <td>2024-05-17</td>\n",
              "      <td>2024</td>\n",
              "      <td>Mayo</td>\n",
              "      <td>Línea 1</td>\n",
              "      <td>518825.0</td>\n",
              "    </tr>\n",
              "    <tr>\n",
              "      <th>48097</th>\n",
              "      <td>2024-05-18</td>\n",
              "      <td>2024</td>\n",
              "      <td>Mayo</td>\n",
              "      <td>Línea 1</td>\n",
              "      <td>386737.0</td>\n",
              "    </tr>\n",
              "    <tr>\n",
              "      <th>48104</th>\n",
              "      <td>2024-05-19</td>\n",
              "      <td>2024</td>\n",
              "      <td>Mayo</td>\n",
              "      <td>Línea 1</td>\n",
              "      <td>245282.0</td>\n",
              "    </tr>\n",
              "    <tr>\n",
              "      <th>48111</th>\n",
              "      <td>2024-05-20</td>\n",
              "      <td>2024</td>\n",
              "      <td>Mayo</td>\n",
              "      <td>Línea 1</td>\n",
              "      <td>412775.0</td>\n",
              "    </tr>\n",
              "    <tr>\n",
              "      <th>48118</th>\n",
              "      <td>2024-05-21</td>\n",
              "      <td>2024</td>\n",
              "      <td>Mayo</td>\n",
              "      <td>Línea 1</td>\n",
              "      <td>434020.0</td>\n",
              "    </tr>\n",
              "    <tr>\n",
              "      <th>48125</th>\n",
              "      <td>2024-05-22</td>\n",
              "      <td>2024</td>\n",
              "      <td>Mayo</td>\n",
              "      <td>Línea 1</td>\n",
              "      <td>505332.0</td>\n",
              "    </tr>\n",
              "    <tr>\n",
              "      <th>48132</th>\n",
              "      <td>2024-05-23</td>\n",
              "      <td>2024</td>\n",
              "      <td>Mayo</td>\n",
              "      <td>Línea 1</td>\n",
              "      <td>495591.0</td>\n",
              "    </tr>\n",
              "    <tr>\n",
              "      <th>48139</th>\n",
              "      <td>2024-05-24</td>\n",
              "      <td>2024</td>\n",
              "      <td>Mayo</td>\n",
              "      <td>Línea 1</td>\n",
              "      <td>509356.0</td>\n",
              "    </tr>\n",
              "    <tr>\n",
              "      <th>48146</th>\n",
              "      <td>2024-05-25</td>\n",
              "      <td>2024</td>\n",
              "      <td>Mayo</td>\n",
              "      <td>Línea 1</td>\n",
              "      <td>389015.0</td>\n",
              "    </tr>\n",
              "    <tr>\n",
              "      <th>48153</th>\n",
              "      <td>2024-05-26</td>\n",
              "      <td>2024</td>\n",
              "      <td>Mayo</td>\n",
              "      <td>Línea 1</td>\n",
              "      <td>233387.0</td>\n",
              "    </tr>\n",
              "    <tr>\n",
              "      <th>48160</th>\n",
              "      <td>2024-05-27</td>\n",
              "      <td>2024</td>\n",
              "      <td>Mayo</td>\n",
              "      <td>Línea 1</td>\n",
              "      <td>402990.0</td>\n",
              "    </tr>\n",
              "    <tr>\n",
              "      <th>48167</th>\n",
              "      <td>2024-05-28</td>\n",
              "      <td>2024</td>\n",
              "      <td>Mayo</td>\n",
              "      <td>Línea 1</td>\n",
              "      <td>440618.0</td>\n",
              "    </tr>\n",
              "    <tr>\n",
              "      <th>48174</th>\n",
              "      <td>2024-05-29</td>\n",
              "      <td>2024</td>\n",
              "      <td>Mayo</td>\n",
              "      <td>Línea 1</td>\n",
              "      <td>485157.0</td>\n",
              "    </tr>\n",
              "    <tr>\n",
              "      <th>48181</th>\n",
              "      <td>2024-05-30</td>\n",
              "      <td>2024</td>\n",
              "      <td>Mayo</td>\n",
              "      <td>Línea 1</td>\n",
              "      <td>497296.0</td>\n",
              "    </tr>\n",
              "    <tr>\n",
              "      <th>48188</th>\n",
              "      <td>2024-05-31</td>\n",
              "      <td>2024</td>\n",
              "      <td>Mayo</td>\n",
              "      <td>Línea 1</td>\n",
              "      <td>508119.0</td>\n",
              "    </tr>\n",
              "  </tbody>\n",
              "</table>\n",
              "</div>\n",
              "    <div class=\"colab-df-buttons\">\n",
              "\n",
              "  <div class=\"colab-df-container\">\n",
              "    <button class=\"colab-df-convert\" onclick=\"convertToInteractive('df-48d9b1c3-75ed-41d7-a54d-40171f5010c6')\"\n",
              "            title=\"Convert this dataframe to an interactive table.\"\n",
              "            style=\"display:none;\">\n",
              "\n",
              "  <svg xmlns=\"http://www.w3.org/2000/svg\" height=\"24px\" viewBox=\"0 -960 960 960\">\n",
              "    <path d=\"M120-120v-720h720v720H120Zm60-500h600v-160H180v160Zm220 220h160v-160H400v160Zm0 220h160v-160H400v160ZM180-400h160v-160H180v160Zm440 0h160v-160H620v160ZM180-180h160v-160H180v160Zm440 0h160v-160H620v160Z\"/>\n",
              "  </svg>\n",
              "    </button>\n",
              "\n",
              "  <style>\n",
              "    .colab-df-container {\n",
              "      display:flex;\n",
              "      gap: 12px;\n",
              "    }\n",
              "\n",
              "    .colab-df-convert {\n",
              "      background-color: #E8F0FE;\n",
              "      border: none;\n",
              "      border-radius: 50%;\n",
              "      cursor: pointer;\n",
              "      display: none;\n",
              "      fill: #1967D2;\n",
              "      height: 32px;\n",
              "      padding: 0 0 0 0;\n",
              "      width: 32px;\n",
              "    }\n",
              "\n",
              "    .colab-df-convert:hover {\n",
              "      background-color: #E2EBFA;\n",
              "      box-shadow: 0px 1px 2px rgba(60, 64, 67, 0.3), 0px 1px 3px 1px rgba(60, 64, 67, 0.15);\n",
              "      fill: #174EA6;\n",
              "    }\n",
              "\n",
              "    .colab-df-buttons div {\n",
              "      margin-bottom: 4px;\n",
              "    }\n",
              "\n",
              "    [theme=dark] .colab-df-convert {\n",
              "      background-color: #3B4455;\n",
              "      fill: #D2E3FC;\n",
              "    }\n",
              "\n",
              "    [theme=dark] .colab-df-convert:hover {\n",
              "      background-color: #434B5C;\n",
              "      box-shadow: 0px 1px 3px 1px rgba(0, 0, 0, 0.15);\n",
              "      filter: drop-shadow(0px 1px 2px rgba(0, 0, 0, 0.3));\n",
              "      fill: #FFFFFF;\n",
              "    }\n",
              "  </style>\n",
              "\n",
              "    <script>\n",
              "      const buttonEl =\n",
              "        document.querySelector('#df-48d9b1c3-75ed-41d7-a54d-40171f5010c6 button.colab-df-convert');\n",
              "      buttonEl.style.display =\n",
              "        google.colab.kernel.accessAllowed ? 'block' : 'none';\n",
              "\n",
              "      async function convertToInteractive(key) {\n",
              "        const element = document.querySelector('#df-48d9b1c3-75ed-41d7-a54d-40171f5010c6');\n",
              "        const dataTable =\n",
              "          await google.colab.kernel.invokeFunction('convertToInteractive',\n",
              "                                                    [key], {});\n",
              "        if (!dataTable) return;\n",
              "\n",
              "        const docLinkHtml = 'Like what you see? Visit the ' +\n",
              "          '<a target=\"_blank\" href=https://colab.research.google.com/notebooks/data_table.ipynb>data table notebook</a>'\n",
              "          + ' to learn more about interactive tables.';\n",
              "        element.innerHTML = '';\n",
              "        dataTable['output_type'] = 'display_data';\n",
              "        await google.colab.output.renderOutput(dataTable, element);\n",
              "        const docLink = document.createElement('div');\n",
              "        docLink.innerHTML = docLinkHtml;\n",
              "        element.appendChild(docLink);\n",
              "      }\n",
              "    </script>\n",
              "  </div>\n",
              "\n",
              "\n",
              "<div id=\"df-64c53e8f-9188-4f5a-8a63-4205877bb5b4\">\n",
              "  <button class=\"colab-df-quickchart\" onclick=\"quickchart('df-64c53e8f-9188-4f5a-8a63-4205877bb5b4')\"\n",
              "            title=\"Suggest charts\"\n",
              "            style=\"display:none;\">\n",
              "\n",
              "<svg xmlns=\"http://www.w3.org/2000/svg\" height=\"24px\"viewBox=\"0 0 24 24\"\n",
              "     width=\"24px\">\n",
              "    <g>\n",
              "        <path d=\"M19 3H5c-1.1 0-2 .9-2 2v14c0 1.1.9 2 2 2h14c1.1 0 2-.9 2-2V5c0-1.1-.9-2-2-2zM9 17H7v-7h2v7zm4 0h-2V7h2v10zm4 0h-2v-4h2v4z\"/>\n",
              "    </g>\n",
              "</svg>\n",
              "  </button>\n",
              "\n",
              "<style>\n",
              "  .colab-df-quickchart {\n",
              "      --bg-color: #E8F0FE;\n",
              "      --fill-color: #1967D2;\n",
              "      --hover-bg-color: #E2EBFA;\n",
              "      --hover-fill-color: #174EA6;\n",
              "      --disabled-fill-color: #AAA;\n",
              "      --disabled-bg-color: #DDD;\n",
              "  }\n",
              "\n",
              "  [theme=dark] .colab-df-quickchart {\n",
              "      --bg-color: #3B4455;\n",
              "      --fill-color: #D2E3FC;\n",
              "      --hover-bg-color: #434B5C;\n",
              "      --hover-fill-color: #FFFFFF;\n",
              "      --disabled-bg-color: #3B4455;\n",
              "      --disabled-fill-color: #666;\n",
              "  }\n",
              "\n",
              "  .colab-df-quickchart {\n",
              "    background-color: var(--bg-color);\n",
              "    border: none;\n",
              "    border-radius: 50%;\n",
              "    cursor: pointer;\n",
              "    display: none;\n",
              "    fill: var(--fill-color);\n",
              "    height: 32px;\n",
              "    padding: 0;\n",
              "    width: 32px;\n",
              "  }\n",
              "\n",
              "  .colab-df-quickchart:hover {\n",
              "    background-color: var(--hover-bg-color);\n",
              "    box-shadow: 0 1px 2px rgba(60, 64, 67, 0.3), 0 1px 3px 1px rgba(60, 64, 67, 0.15);\n",
              "    fill: var(--button-hover-fill-color);\n",
              "  }\n",
              "\n",
              "  .colab-df-quickchart-complete:disabled,\n",
              "  .colab-df-quickchart-complete:disabled:hover {\n",
              "    background-color: var(--disabled-bg-color);\n",
              "    fill: var(--disabled-fill-color);\n",
              "    box-shadow: none;\n",
              "  }\n",
              "\n",
              "  .colab-df-spinner {\n",
              "    border: 2px solid var(--fill-color);\n",
              "    border-color: transparent;\n",
              "    border-bottom-color: var(--fill-color);\n",
              "    animation:\n",
              "      spin 1s steps(1) infinite;\n",
              "  }\n",
              "\n",
              "  @keyframes spin {\n",
              "    0% {\n",
              "      border-color: transparent;\n",
              "      border-bottom-color: var(--fill-color);\n",
              "      border-left-color: var(--fill-color);\n",
              "    }\n",
              "    20% {\n",
              "      border-color: transparent;\n",
              "      border-left-color: var(--fill-color);\n",
              "      border-top-color: var(--fill-color);\n",
              "    }\n",
              "    30% {\n",
              "      border-color: transparent;\n",
              "      border-left-color: var(--fill-color);\n",
              "      border-top-color: var(--fill-color);\n",
              "      border-right-color: var(--fill-color);\n",
              "    }\n",
              "    40% {\n",
              "      border-color: transparent;\n",
              "      border-right-color: var(--fill-color);\n",
              "      border-top-color: var(--fill-color);\n",
              "    }\n",
              "    60% {\n",
              "      border-color: transparent;\n",
              "      border-right-color: var(--fill-color);\n",
              "    }\n",
              "    80% {\n",
              "      border-color: transparent;\n",
              "      border-right-color: var(--fill-color);\n",
              "      border-bottom-color: var(--fill-color);\n",
              "    }\n",
              "    90% {\n",
              "      border-color: transparent;\n",
              "      border-bottom-color: var(--fill-color);\n",
              "    }\n",
              "  }\n",
              "</style>\n",
              "\n",
              "  <script>\n",
              "    async function quickchart(key) {\n",
              "      const quickchartButtonEl =\n",
              "        document.querySelector('#' + key + ' button');\n",
              "      quickchartButtonEl.disabled = true;  // To prevent multiple clicks.\n",
              "      quickchartButtonEl.classList.add('colab-df-spinner');\n",
              "      try {\n",
              "        const charts = await google.colab.kernel.invokeFunction(\n",
              "            'suggestCharts', [key], {});\n",
              "      } catch (error) {\n",
              "        console.error('Error during call to suggestCharts:', error);\n",
              "      }\n",
              "      quickchartButtonEl.classList.remove('colab-df-spinner');\n",
              "      quickchartButtonEl.classList.add('colab-df-quickchart-complete');\n",
              "    }\n",
              "    (() => {\n",
              "      let quickchartButtonEl =\n",
              "        document.querySelector('#df-64c53e8f-9188-4f5a-8a63-4205877bb5b4 button');\n",
              "      quickchartButtonEl.style.display =\n",
              "        google.colab.kernel.accessAllowed ? 'block' : 'none';\n",
              "    })();\n",
              "  </script>\n",
              "</div>\n",
              "\n",
              "  <div id=\"id_a24da68f-3907-44f1-96aa-4ba8114ea96a\">\n",
              "    <style>\n",
              "      .colab-df-generate {\n",
              "        background-color: #E8F0FE;\n",
              "        border: none;\n",
              "        border-radius: 50%;\n",
              "        cursor: pointer;\n",
              "        display: none;\n",
              "        fill: #1967D2;\n",
              "        height: 32px;\n",
              "        padding: 0 0 0 0;\n",
              "        width: 32px;\n",
              "      }\n",
              "\n",
              "      .colab-df-generate:hover {\n",
              "        background-color: #E2EBFA;\n",
              "        box-shadow: 0px 1px 2px rgba(60, 64, 67, 0.3), 0px 1px 3px 1px rgba(60, 64, 67, 0.15);\n",
              "        fill: #174EA6;\n",
              "      }\n",
              "\n",
              "      [theme=dark] .colab-df-generate {\n",
              "        background-color: #3B4455;\n",
              "        fill: #D2E3FC;\n",
              "      }\n",
              "\n",
              "      [theme=dark] .colab-df-generate:hover {\n",
              "        background-color: #434B5C;\n",
              "        box-shadow: 0px 1px 3px 1px rgba(0, 0, 0, 0.15);\n",
              "        filter: drop-shadow(0px 1px 2px rgba(0, 0, 0, 0.3));\n",
              "        fill: #FFFFFF;\n",
              "      }\n",
              "    </style>\n",
              "    <button class=\"colab-df-generate\" onclick=\"generateWithVariable('df_05_24_l1')\"\n",
              "            title=\"Generate code using this dataframe.\"\n",
              "            style=\"display:none;\">\n",
              "\n",
              "  <svg xmlns=\"http://www.w3.org/2000/svg\" height=\"24px\"viewBox=\"0 0 24 24\"\n",
              "       width=\"24px\">\n",
              "    <path d=\"M7,19H8.4L18.45,9,17,7.55,7,17.6ZM5,21V16.75L18.45,3.32a2,2,0,0,1,2.83,0l1.4,1.43a1.91,1.91,0,0,1,.58,1.4,1.91,1.91,0,0,1-.58,1.4L9.25,21ZM18.45,9,17,7.55Zm-12,3A5.31,5.31,0,0,0,4.9,8.1,5.31,5.31,0,0,0,1,6.5,5.31,5.31,0,0,0,4.9,4.9,5.31,5.31,0,0,0,6.5,1,5.31,5.31,0,0,0,8.1,4.9,5.31,5.31,0,0,0,12,6.5,5.46,5.46,0,0,0,6.5,12Z\"/>\n",
              "  </svg>\n",
              "    </button>\n",
              "    <script>\n",
              "      (() => {\n",
              "      const buttonEl =\n",
              "        document.querySelector('#id_a24da68f-3907-44f1-96aa-4ba8114ea96a button.colab-df-generate');\n",
              "      buttonEl.style.display =\n",
              "        google.colab.kernel.accessAllowed ? 'block' : 'none';\n",
              "\n",
              "      buttonEl.onclick = () => {\n",
              "        google.colab.notebook.generateWithVariable('df_05_24_l1');\n",
              "      }\n",
              "      })();\n",
              "    </script>\n",
              "  </div>\n",
              "\n",
              "    </div>\n",
              "  </div>\n"
            ],
            "application/vnd.google.colaboratory.intrinsic+json": {
              "type": "dataframe",
              "variable_name": "df_05_24_l1",
              "repr_error": "0"
            }
          },
          "metadata": {},
          "execution_count": 18
        }
      ]
    },
    {
      "cell_type": "markdown",
      "source": [
        "Notamos la cantidad total"
      ],
      "metadata": {
        "id": "uXlKwZlr8ITe"
      }
    },
    {
      "cell_type": "code",
      "source": [
        "df_05_24_l1.shape"
      ],
      "metadata": {
        "colab": {
          "base_uri": "https://localhost:8080/"
        },
        "id": "gkGGJl1V768k",
        "outputId": "5affb016-bfb3-408f-efc7-070b1cc92935"
      },
      "execution_count": null,
      "outputs": [
        {
          "output_type": "execute_result",
          "data": {
            "text/plain": [
              "(31, 5)"
            ]
          },
          "metadata": {},
          "execution_count": 19
        }
      ]
    },
    {
      "cell_type": "markdown",
      "source": [
        "**Ejercicio** Haga el filtrado anterior por la línea y el rango de fecha que más le interese."
      ],
      "metadata": {
        "id": "Iq3_aR7h9qGO"
      }
    },
    {
      "cell_type": "markdown",
      "source": [
        "### Conclusiones"
      ],
      "metadata": {
        "id": "sxJ6bsjm_2lQ"
      }
    },
    {
      "cell_type": "markdown",
      "source": [
        "Del dataframe anterior `df_05_24_l1` podemos obtener la cantidad de afluencia diaria de pasajeros de la línes 1 del metrobús de la CDMX durante el mes de Mayo de 2024."
      ],
      "metadata": {
        "id": "o8IU9oot_1yw"
      }
    },
    {
      "cell_type": "code",
      "source": [
        "total = df_05_24_l1.afluencia.tolist()\n",
        "total"
      ],
      "metadata": {
        "colab": {
          "base_uri": "https://localhost:8080/"
        },
        "id": "KHEV7lOO_YGs",
        "outputId": "f7276913-a5fc-433b-d42c-67836c71a98b"
      },
      "execution_count": null,
      "outputs": [
        {
          "output_type": "execute_result",
          "data": {
            "text/plain": [
              "[245627.0,\n",
              " 486717.0,\n",
              " 483295.0,\n",
              " 329054.0,\n",
              " 221653.0,\n",
              " 456678.0,\n",
              " 497636.0,\n",
              " 496831.0,\n",
              " 498108.0,\n",
              " 375603.0,\n",
              " 297688.0,\n",
              " 205464.0,\n",
              " 472907.0,\n",
              " 513965.0,\n",
              " 485837.0,\n",
              " 506795.0,\n",
              " 518825.0,\n",
              " 386737.0,\n",
              " 245282.0,\n",
              " 412775.0,\n",
              " 434020.0,\n",
              " 505332.0,\n",
              " 495591.0,\n",
              " 509356.0,\n",
              " 389015.0,\n",
              " 233387.0,\n",
              " 402990.0,\n",
              " 440618.0,\n",
              " 485157.0,\n",
              " 497296.0,\n",
              " 508119.0]"
            ]
          },
          "metadata": {},
          "execution_count": 20
        }
      ]
    },
    {
      "cell_type": "markdown",
      "source": [
        "Con los datos obtenidos, procedemos a realizar un modelado a través de la distribución Normal.\n",
        "\n",
        "Definimos X = \\{Número de usuarios del sistema Metrobús por día \\}.\n",
        "\n",
        "Primero procedemos a calcular el valor medio de ocurrencia:"
      ],
      "metadata": {
        "id": "tDJUZ-SI_zyH"
      }
    },
    {
      "cell_type": "markdown",
      "source": [
        "Cálculo la media con NumPy en Python"
      ],
      "metadata": {
        "id": "THdGttJeIWCO"
      }
    },
    {
      "cell_type": "code",
      "source": [
        "import numpy as np\n",
        "\n",
        "data = [245627, 486717, 483295, 329054, 221653, 456678, 497636, 496831, 498108, 375603, 297688, 205464, 472907, 513965, 485837, 506795, 518825, 386737, 245282, 412775, 434020, 505332, 495591, 509356, 389015, 233387, 402990, 440618, 485157, 497296, 508119]\n",
        "\n",
        "# Calcula la media utilizando la función mean() de NumPy\n",
        "mean = np.mean(data)\n",
        "\n",
        "print(\"Media:\", mean)"
      ],
      "metadata": {
        "colab": {
          "base_uri": "https://localhost:8080/"
        },
        "id": "82G1XHe-Gyvl",
        "outputId": "250667fa-1af8-4d2b-f2f4-a12f909ae2f4"
      },
      "execution_count": null,
      "outputs": [
        {
          "output_type": "stream",
          "name": "stdout",
          "text": [
            "Media: 420592.1935483871\n"
          ]
        }
      ]
    },
    {
      "cell_type": "markdown",
      "source": [
        "El valor nos dice que en promedio hay 420592 usuarios del transporte Metrobús por día para la línea 1."
      ],
      "metadata": {
        "id": "qfOIInnbJH8c"
      }
    },
    {
      "cell_type": "markdown",
      "source": [
        "Despúes procedemos a calcular la desviación estandár de los datos obtenidos:"
      ],
      "metadata": {
        "id": "edq81TBtGqS8"
      }
    },
    {
      "cell_type": "markdown",
      "source": [
        "Cálculo de la desviación estándar con NumPy en Python"
      ],
      "metadata": {
        "id": "a0HUfr_-IbVu"
      }
    },
    {
      "cell_type": "code",
      "source": [
        "import numpy as np\n",
        "\n",
        "# Datos de ejemplo\n",
        "datos = [245627, 486717, 483295, 329054, 221653, 456678, 497636, 496831, 498108, 375603, 297688, 205464, 472907, 513965, 485837, 506795, 518825, 386737, 245282, 412775, 434020, 505332, 495591, 509356, 389015, 233387, 402990, 440618, 485157, 497296, 508119]\n",
        "\n",
        "# Calcular la desviación estándar utilizando NumPy\n",
        "desviacion_estandar = np.std(datos)\n",
        "\n",
        "print(\"Desviación Estándar:\", desviacion_estandar)"
      ],
      "metadata": {
        "colab": {
          "base_uri": "https://localhost:8080/"
        },
        "id": "ZTpNT841ITLu",
        "outputId": "678242fc-b04f-4fec-faa9-9ae8609fb349"
      },
      "execution_count": null,
      "outputs": [
        {
          "output_type": "stream",
          "name": "stdout",
          "text": [
            "Desviación Estándar: 99904.33007969284\n"
          ]
        }
      ]
    },
    {
      "cell_type": "markdown",
      "source": [
        "Suponemos que podemos modelar X mediante la distribución normal, por lo que, X ∼ Normal($420592$ , $99904^2$)"
      ],
      "metadata": {
        "id": "ALdh75f4IysR"
      }
    },
    {
      "cell_type": "markdown",
      "source": [
        "Podemos hacer calculos de probabilidades para saber cuantos usuarios podría tener el sistema Metrobús en los próximos días.\n",
        "\n",
        "  Por ejemplo: 1. ¿Cuál es la probabilidad de que se tenga una afluencia de más de 400,000 usuarios al sistema Metrobús el próximo día?\n"
      ],
      "metadata": {
        "id": "fptPvJw6JohB"
      }
    },
    {
      "cell_type": "code",
      "source": [
        "from scipy.stats import norm\n",
        "\n",
        "# Parámetros\n",
        "mu = 420592  # media\n",
        "sigma = 99904  # desviación estándar\n",
        "x = 400000  # valor específico\n",
        "\n",
        "# Calcular la probabilidad acumulada\n",
        "probabilidad_mas_de_x = 1 - norm.cdf(x, mu, sigma)\n",
        "print(f\"La probabilidad de que la variable sea mayor que {x} es {probabilidad_mas_de_x:.4f}\")"
      ],
      "metadata": {
        "colab": {
          "base_uri": "https://localhost:8080/"
        },
        "id": "LuFtZlAAK3Ug",
        "outputId": "1e6dca7e-b405-44b0-9681-fdbbe3888483"
      },
      "execution_count": null,
      "outputs": [
        {
          "output_type": "stream",
          "name": "stdout",
          "text": [
            "La probabilidad de que la variable sea mayor que 400000 es 0.5817\n"
          ]
        }
      ]
    },
    {
      "cell_type": "markdown",
      "source": [
        "2. ¿Cuál es la probabilidad de que se tenga una afluencia de menos de 430,000 usuarios al sistema Metrobús el próximo día?"
      ],
      "metadata": {
        "id": "7xzmwJmVLqCP"
      }
    },
    {
      "cell_type": "code",
      "source": [
        "from scipy.stats import norm\n",
        "\n",
        "# Parámetros\n",
        "mu = 420592  # media\n",
        "sigma = 99904  # desviación estándar\n",
        "x = 430000  # valor específico\n",
        "\n",
        "# Calcular la probabilidad acumulada\n",
        "probabilidad_acumulada = norm.cdf(x, mu, sigma)\n",
        "print(f\"La probabilidad de que la variable sea menor o igual a {x} es {probabilidad_acumulada:.4f}\")"
      ],
      "metadata": {
        "colab": {
          "base_uri": "https://localhost:8080/"
        },
        "id": "67NJ3ykpL8NR",
        "outputId": "a2143997-3ccd-48c5-a4ea-6dcb9de8cbde"
      },
      "execution_count": null,
      "outputs": [
        {
          "output_type": "stream",
          "name": "stdout",
          "text": [
            "La probabilidad de que la variable sea menor o igual a 430000 es 0.5375\n"
          ]
        }
      ]
    },
    {
      "cell_type": "markdown",
      "source": [
        "3. ¿Cuál es la probabilidad de que se tenga una afluencia de entre 390,000 y 500,000 usuarios al sistema Metrobús el próximo día?"
      ],
      "metadata": {
        "id": "VYQDCoaaMEQi"
      }
    },
    {
      "cell_type": "code",
      "source": [
        "from scipy.stats import norm\n",
        "\n",
        "# Parámetros\n",
        "mu = 420592  # media\n",
        "sigma = 99904  # desviación estándar\n",
        "x1 = 390000  # valor específico\n",
        "x2 = 500000  # límite superior\n",
        "\n",
        "# Calcular la probabilidad\n",
        "probabilidad_entre_x1_y_x2 = norm.cdf(x2, mu, sigma) - norm.cdf(x1, mu, sigma)\n",
        "print(f\"La probabilidad de que la variable esté entre {x1} y {x2} es {probabilidad_entre_x1_y_x2:.4f}\")"
      ],
      "metadata": {
        "colab": {
          "base_uri": "https://localhost:8080/"
        },
        "id": "4u5nm-qiMU0t",
        "outputId": "e7dee027-b16a-447f-e398-ce2fa3db69f8"
      },
      "execution_count": null,
      "outputs": [
        {
          "output_type": "stream",
          "name": "stdout",
          "text": [
            "La probabilidad de que la variable esté entre 390000 y 500000 es 0.4069\n"
          ]
        }
      ]
    },
    {
      "cell_type": "markdown",
      "source": [
        "4. Podemos hace una gráfica de las probabilidades:"
      ],
      "metadata": {
        "id": "LuKbYR8cMhjP"
      }
    },
    {
      "cell_type": "code",
      "source": [
        "import numpy as np\n",
        "import matplotlib.pyplot as plt\n",
        "\n",
        "# Parámetros\n",
        "mu = 420592  # media\n",
        "sigma = 99904  # desviación estándar\n",
        "size = 1000  # número de muestras a generar\n",
        "\n",
        "# Generar muestras\n",
        "muestras = np.random.normal(mu, sigma, size)\n",
        "\n",
        "# Crear el histograma\n",
        "plt.hist(muestras, bins=30, density=True, alpha=0.6, color='b', edgecolor='black')\n",
        "\n",
        "# Añadir título y etiquetas\n",
        "plt.title('Histograma de muestras generadas')\n",
        "plt.xlabel('Valor')\n",
        "plt.ylabel('Frecuencia relativa')\n",
        "\n",
        "# Mostrar el gráfico\n",
        "plt.show()"
      ],
      "metadata": {
        "colab": {
          "base_uri": "https://localhost:8080/",
          "height": 472
        },
        "id": "EdKnFCCAMie-",
        "outputId": "3d2dd4ee-d178-4143-af8c-1a8db7c85f6f"
      },
      "execution_count": null,
      "outputs": [
        {
          "output_type": "display_data",
          "data": {
            "text/plain": [
              "<Figure size 640x480 with 1 Axes>"
            ],
            "image/png": "[encoded data removed]"
          },
          "metadata": {}
        }
      ]
    },
    {
      "cell_type": "markdown",
      "source": [
        "5. Calculemos el percentiles del 95%"
      ],
      "metadata": {
        "id": "xC3C8xVVMyXo"
      }
    },
    {
      "cell_type": "code",
      "source": [
        "from scipy.stats import norm\n",
        "\n",
        "# Parámetros\n",
        "mu = 420592  # media\n",
        "sigma = 99904  # desviación estándar\n",
        "percentil = 0.95  # percentil deseado\n",
        "\n",
        "# Calcular el percentil\n",
        "valor_percentil = norm.ppf(percentil, mu, sigma)\n",
        "print(f\"El percentil {percentil * 100}% de la distribución normal es {valor_percentil:.4f}\")"
      ],
      "metadata": {
        "colab": {
          "base_uri": "https://localhost:8080/"
        },
        "id": "koX7D0MTNB5X",
        "outputId": "46569f00-0657-416a-ed4c-fcf011a04765"
      },
      "execution_count": null,
      "outputs": [
        {
          "output_type": "stream",
          "name": "stdout",
          "text": [
            "El percentil 95.0% de la distribución normal es 584919.4567\n"
          ]
        }
      ]
    },
    {
      "cell_type": "markdown",
      "source": [
        "Ahora buscaremos calcular el número de unidades necesarias para abastecer con un 95% de probabilidad la necesidad diaria de la línea 1.\n",
        "\n",
        "Los datos proporcionados por el sistema de transporte de la CDMX nos indican que la capacidad máxima de una unidad de transporte Metrobus es de 160 usuarios por lo que supondremos una capacidad por viaje de 320 usuarios haciendo un promedio de 10 viajes por día por unidad. Por lo que cada unidad podría transportar una cantidad de 3200 usuarios al día.\n",
        "\n",
        "Con lo cual necesitaremos una cantidad de:"
      ],
      "metadata": {
        "id": "QRrG4EWpNOjm"
      }
    },
    {
      "cell_type": "code",
      "source": [
        "584919/3200"
      ],
      "metadata": {
        "colab": {
          "base_uri": "https://localhost:8080/"
        },
        "id": "uMYXpOywOIqD",
        "outputId": "5ce1586e-0ea8-4728-9474-09a951f11158"
      },
      "execution_count": null,
      "outputs": [
        {
          "output_type": "execute_result",
          "data": {
            "text/plain": [
              "182.7871875"
            ]
          },
          "metadata": {},
          "execution_count": 19
        }
      ]
    },
    {
      "cell_type": "markdown",
      "source": [
        "Por lo tanto necesitamos de al menos 183 unidades para abastecer con un 95% de probabilidad la necesidad diaria de la línea 1."
      ],
      "metadata": {
        "id": "5-I3jcK7OdYu"
      }
    },
    {
      "cell_type": "markdown",
      "source": [
        "Nota: Para hacer reproducibles nuestros calculos finales, es necesario estimar el número de usuarios que viajan en promedio por unidad en cada viaje  así como el promedio de viajes diarios por unidad y usar ese estimado en el cálculo de las mismas."
      ],
      "metadata": {
        "id": "OYvnF9cROuB0"
      }
    }
  ]
}